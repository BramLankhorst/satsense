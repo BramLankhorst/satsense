{
 "cells": [
  {
   "cell_type": "code",
   "execution_count": 1,
   "metadata": {
    "collapsed": true
   },
   "outputs": [],
   "source": [
    "# basic stuff\n",
    "import os\n",
    "import pandas as pd\n",
    "import numpy as np\n",
    "from random import randint, uniform\n",
    "from datetime import datetime\n",
    "from urllib import urlretrieve\n",
    "from zipfile import ZipFile\n",
    "\n",
    "# geo stuff\n",
    "import geopandas as gpd\n",
    "from shapely.geometry import Point\n",
    "# from ipyleaflet import (Map,\n",
    "#     Marker,\n",
    "#     TileLayer, ImageOverlay,\n",
    "#     Polyline, Polygon, Rectangle, Circle, CircleMarker,\n",
    "#     GeoJSON,\n",
    "#     DrawControl\n",
    "# )\n",
    "\n",
    "# plotting stuff\n",
    "%matplotlib inline\n",
    "import matplotlib.pyplot as plt\n",
    "import seaborn as sns\n",
    "plt.style.use('bmh')\n",
    "plt.rcParams['figure.figsize'] = (10.0, 10.0)\n",
    "\n",
    "# widget stuff\n",
    "from ipywidgets import interact, HTML, FloatSlider\n",
    "from IPython.display import clear_output, display\n",
    "\n",
    "# progress stuff\n",
    "from tqdm import tqdm_notebook, tqdm_pandas\n",
    "%load_ext autotime\n",
    "\n",
    "# turn warnings off\n",
    "import warnings\n",
    "warnings.filterwarnings('ignore')"
   ]
  },
  {
   "cell_type": "code",
   "execution_count": 2,
   "metadata": {},
   "outputs": [
    {
     "data": {
      "text/html": [
       "<div>\n",
       "<table border=\"1\" class=\"dataframe\">\n",
       "  <thead>\n",
       "    <tr style=\"text-align: right;\">\n",
       "      <th></th>\n",
       "      <th>AltMode</th>\n",
       "      <th>Base</th>\n",
       "      <th>Clamped</th>\n",
       "      <th>Extruded</th>\n",
       "      <th>FolderPath</th>\n",
       "      <th>Name</th>\n",
       "      <th>OID_</th>\n",
       "      <th>PopupInfo</th>\n",
       "      <th>Shape_Area</th>\n",
       "      <th>Shape_Leng</th>\n",
       "      <th>Snippet</th>\n",
       "      <th>SymbolID</th>\n",
       "      <th>geometry</th>\n",
       "    </tr>\n",
       "  </thead>\n",
       "  <tbody>\n",
       "    <tr>\n",
       "      <th>0</th>\n",
       "      <td>0</td>\n",
       "      <td>0.0</td>\n",
       "      <td>-1</td>\n",
       "      <td>0</td>\n",
       "      <td>slums mala.kmz/slums mala</td>\n",
       "      <td>m2</td>\n",
       "      <td>0</td>\n",
       "      <td>None</td>\n",
       "      <td>1.912452e-08</td>\n",
       "      <td>0.000588</td>\n",
       "      <td>None</td>\n",
       "      <td>0</td>\n",
       "      <td>POLYGON Z ((77.76300594500003 13.0017349490000...</td>\n",
       "    </tr>\n",
       "    <tr>\n",
       "      <th>1</th>\n",
       "      <td>0</td>\n",
       "      <td>0.0</td>\n",
       "      <td>-1</td>\n",
       "      <td>0</td>\n",
       "      <td>slums mala.kmz/slums mala</td>\n",
       "      <td>m3</td>\n",
       "      <td>0</td>\n",
       "      <td>None</td>\n",
       "      <td>2.462954e-08</td>\n",
       "      <td>0.000614</td>\n",
       "      <td>None</td>\n",
       "      <td>0</td>\n",
       "      <td>POLYGON Z ((77.76389983500007 13.0010878540000...</td>\n",
       "    </tr>\n",
       "    <tr>\n",
       "      <th>2</th>\n",
       "      <td>0</td>\n",
       "      <td>0.0</td>\n",
       "      <td>-1</td>\n",
       "      <td>0</td>\n",
       "      <td>slums mala.kmz/slums mala</td>\n",
       "      <td>m4</td>\n",
       "      <td>0</td>\n",
       "      <td>None</td>\n",
       "      <td>1.259128e-08</td>\n",
       "      <td>0.000458</td>\n",
       "      <td>None</td>\n",
       "      <td>0</td>\n",
       "      <td>POLYGON Z ((77.76301924500007 13.0014918180000...</td>\n",
       "    </tr>\n",
       "    <tr>\n",
       "      <th>3</th>\n",
       "      <td>0</td>\n",
       "      <td>0.0</td>\n",
       "      <td>-1</td>\n",
       "      <td>0</td>\n",
       "      <td>slums mala.kmz/slums mala</td>\n",
       "      <td>m5</td>\n",
       "      <td>0</td>\n",
       "      <td>None</td>\n",
       "      <td>2.182265e-08</td>\n",
       "      <td>0.000564</td>\n",
       "      <td>None</td>\n",
       "      <td>0</td>\n",
       "      <td>POLYGON Z ((77.74995246400005 13.0024363600000...</td>\n",
       "    </tr>\n",
       "    <tr>\n",
       "      <th>4</th>\n",
       "      <td>0</td>\n",
       "      <td>0.0</td>\n",
       "      <td>-1</td>\n",
       "      <td>0</td>\n",
       "      <td>slums mala.kmz/slums mala</td>\n",
       "      <td>m6</td>\n",
       "      <td>0</td>\n",
       "      <td>None</td>\n",
       "      <td>1.673491e-07</td>\n",
       "      <td>0.002384</td>\n",
       "      <td>None</td>\n",
       "      <td>0</td>\n",
       "      <td>POLYGON Z ((77.72366174100006 12.9970105230000...</td>\n",
       "    </tr>\n",
       "  </tbody>\n",
       "</table>\n",
       "</div>"
      ],
      "text/plain": [
       "   AltMode  Base  Clamped  Extruded                 FolderPath Name  OID_  \\\n",
       "0        0   0.0       -1         0  slums mala.kmz/slums mala   m2     0   \n",
       "1        0   0.0       -1         0  slums mala.kmz/slums mala   m3     0   \n",
       "2        0   0.0       -1         0  slums mala.kmz/slums mala   m4     0   \n",
       "3        0   0.0       -1         0  slums mala.kmz/slums mala   m5     0   \n",
       "4        0   0.0       -1         0  slums mala.kmz/slums mala   m6     0   \n",
       "\n",
       "  PopupInfo    Shape_Area  Shape_Leng Snippet  SymbolID  \\\n",
       "0      None  1.912452e-08    0.000588    None         0   \n",
       "1      None  2.462954e-08    0.000614    None         0   \n",
       "2      None  1.259128e-08    0.000458    None         0   \n",
       "3      None  2.182265e-08    0.000564    None         0   \n",
       "4      None  1.673491e-07    0.002384    None         0   \n",
       "\n",
       "                                            geometry  \n",
       "0  POLYGON Z ((77.76300594500003 13.0017349490000...  \n",
       "1  POLYGON Z ((77.76389983500007 13.0010878540000...  \n",
       "2  POLYGON Z ((77.76301924500007 13.0014918180000...  \n",
       "3  POLYGON Z ((77.74995246400005 13.0024363600000...  \n",
       "4  POLYGON Z ((77.72366174100006 12.9970105230000...  "
      ]
     },
     "execution_count": 2,
     "metadata": {},
     "output_type": "execute_result"
    },
    {
     "name": "stdout",
     "output_type": "stream",
     "text": [
      "time: 228 ms\n"
     ]
    }
   ],
   "source": [
    "# read and view GeoDataFrame\n",
    "gdf = gpd.GeoDataFrame.from_file('new/Slum_banglore.shp')\n",
    "gdf.head()"
   ]
  },
  {
   "cell_type": "code",
   "execution_count": 3,
   "metadata": {},
   "outputs": [
    {
     "data": {
      "text/plain": [
       "<matplotlib.axes._subplots.AxesSubplot at 0x117eec890>"
      ]
     },
     "execution_count": 3,
     "metadata": {},
     "output_type": "execute_result"
    },
    {
     "data": {
      "image/png": "[encoded data removed]",
      "text/plain": [
       "<matplotlib.figure.Figure at 0x117eeced0>"
      ]
     },
     "metadata": {},
     "output_type": "display_data"
    },
    {
     "name": "stdout",
     "output_type": "stream",
     "text": [
      "time: 7.6 s\n"
     ]
    }
   ],
   "source": [
    "# plot GeoDataFrame\n",
    "gdf.plot()"
   ]
  },
  {
   "cell_type": "code",
   "execution_count": 4,
   "metadata": {},
   "outputs": [
    {
     "data": {
      "application/vnd.jupyter.widget-view+json": {
       "model_id": "c3b52b231b934efdaa2257ed643d4ca7"
      }
     },
     "metadata": {},
     "output_type": "display_data"
    },
    {
     "name": "stdout",
     "output_type": "stream",
     "text": [
      "\n"
     ]
    },
    {
     "data": {
      "text/html": [
       "<div>\n",
       "<table border=\"1\" class=\"dataframe\">\n",
       "  <thead>\n",
       "    <tr style=\"text-align: right;\">\n",
       "      <th></th>\n",
       "      <th>datetime</th>\n",
       "      <th>x</th>\n",
       "      <th>y</th>\n",
       "      <th>point</th>\n",
       "      <th>gender</th>\n",
       "      <th>religion</th>\n",
       "      <th>language</th>\n",
       "      <th>occupation</th>\n",
       "    </tr>\n",
       "  </thead>\n",
       "  <tbody>\n",
       "    <tr>\n",
       "      <th>0</th>\n",
       "      <td>2017-06-27</td>\n",
       "      <td>77.591863</td>\n",
       "      <td>13.045028</td>\n",
       "      <td>POINT (77.59186308679607 13.04502801377736)</td>\n",
       "      <td>1</td>\n",
       "      <td>0</td>\n",
       "      <td>0</td>\n",
       "      <td>12</td>\n",
       "    </tr>\n",
       "    <tr>\n",
       "      <th>1</th>\n",
       "      <td>2017-06-27</td>\n",
       "      <td>77.540492</td>\n",
       "      <td>12.942739</td>\n",
       "      <td>POINT (77.54049202618927 12.94273939354664)</td>\n",
       "      <td>0</td>\n",
       "      <td>2</td>\n",
       "      <td>3</td>\n",
       "      <td>12</td>\n",
       "    </tr>\n",
       "    <tr>\n",
       "      <th>2</th>\n",
       "      <td>2017-06-27</td>\n",
       "      <td>77.747480</td>\n",
       "      <td>13.061961</td>\n",
       "      <td>POINT (77.74747954127271 13.06196133984214)</td>\n",
       "      <td>0</td>\n",
       "      <td>3</td>\n",
       "      <td>8</td>\n",
       "      <td>11</td>\n",
       "    </tr>\n",
       "    <tr>\n",
       "      <th>3</th>\n",
       "      <td>2017-06-27</td>\n",
       "      <td>77.646410</td>\n",
       "      <td>12.909098</td>\n",
       "      <td>POINT (77.6464096290167 12.90909822317232)</td>\n",
       "      <td>0</td>\n",
       "      <td>3</td>\n",
       "      <td>2</td>\n",
       "      <td>8</td>\n",
       "    </tr>\n",
       "    <tr>\n",
       "      <th>4</th>\n",
       "      <td>2017-06-27</td>\n",
       "      <td>77.583095</td>\n",
       "      <td>12.986938</td>\n",
       "      <td>POINT (77.58309451635211 12.98693818089884)</td>\n",
       "      <td>0</td>\n",
       "      <td>3</td>\n",
       "      <td>8</td>\n",
       "      <td>8</td>\n",
       "    </tr>\n",
       "  </tbody>\n",
       "</table>\n",
       "</div>"
      ],
      "text/plain": [
       "    datetime          x          y  \\\n",
       "0 2017-06-27  77.591863  13.045028   \n",
       "1 2017-06-27  77.540492  12.942739   \n",
       "2 2017-06-27  77.747480  13.061961   \n",
       "3 2017-06-27  77.646410  12.909098   \n",
       "4 2017-06-27  77.583095  12.986938   \n",
       "\n",
       "                                         point  gender  religion  language  \\\n",
       "0  POINT (77.59186308679607 13.04502801377736)       1         0         0   \n",
       "1  POINT (77.54049202618927 12.94273939354664)       0         2         3   \n",
       "2  POINT (77.74747954127271 13.06196133984214)       0         3         8   \n",
       "3   POINT (77.6464096290167 12.90909822317232)       0         3         2   \n",
       "4  POINT (77.58309451635211 12.98693818089884)       0         3         8   \n",
       "\n",
       "   occupation  \n",
       "0          12  \n",
       "1          12  \n",
       "2          11  \n",
       "3           8  \n",
       "4           8  "
      ]
     },
     "execution_count": 4,
     "metadata": {},
     "output_type": "execute_result"
    },
    {
     "name": "stdout",
     "output_type": "stream",
     "text": [
      "time: 856 ms\n"
     ]
    }
   ],
   "source": [
    "def sim_users(n, p, f):\n",
    "\n",
    "    # create datetime range\n",
    "    today = datetime.today().strftime(\"%m/%d/%Y\")\n",
    "    rng = pd.date_range(today, periods=p, freq=f)\n",
    "\n",
    "    # get min/max coorindates\n",
    "    min_x, min_y = gdf['geometry'].bounds.ix[:,:2].min()\n",
    "    max_x, max_y = gdf['geometry'].bounds.ix[:,2:].max()\n",
    "\n",
    "    # iterate over time datetime range and create user list\n",
    "    sim_user_list = []\n",
    "    for ts in tqdm_notebook(rng, desc='Progress', leave=True):\n",
    "        for j in xrange(n):\n",
    "            x = uniform(min_x, max_x)\n",
    "            y = uniform(min_y, max_y)\n",
    "            point = Point(x, y)\n",
    "            gender = randint(0, 1)\n",
    "            religion = randint(0, 4)\n",
    "            language = randint(0, 9)\n",
    "            occupation = randint(0, 15)\n",
    "            sim_user_list.append([ts, x, y, point, gender, religion, language, occupation])\n",
    "\n",
    "    # return dataframe\n",
    "    sim_user_df = pd.DataFrame(sim_user_list, columns=['datetime', 'x', 'y', 'point', 'gender', 'religion', 'language', 'occupation'])\n",
    "    return sim_user_df\n",
    "\n",
    "# simulate user data\n",
    "sim_data = sim_users(1000, 24, 'H')\n",
    "sim_data.head()\n"
   ]
  },
  {
   "cell_type": "code",
   "execution_count": null,
   "metadata": {},
   "outputs": [],
   "source": [
    "# check if point(s) fall within known geometry - actual\n",
    "sim_data['contains_1'] = sim_data['point'].map(lambda x: True if gdf.contains(x).any()==True else False)\n",
    "sim_data.head()\n",
    "sim_data.loc[sim_data['contains_1'] == True]"
   ]
  },
  {
   "cell_type": "code",
   "execution_count": null,
   "metadata": {
    "collapsed": true
   },
   "outputs": [],
   "source": []
  }
 ],
 "metadata": {
  "kernelspec": {
   "display_name": "Python 2",
   "language": "python",
   "name": "python2"
  },
  "language_info": {
   "codemirror_mode": {
    "name": "ipython",
    "version": 2
   },
   "file_extension": ".py",
   "mimetype": "text/x-python",
   "name": "python",
   "nbconvert_exporter": "python",
   "pygments_lexer": "ipython2",
   "version": "2.7.13"
  }
 },
 "nbformat": 4,
 "nbformat_minor": 2
}
