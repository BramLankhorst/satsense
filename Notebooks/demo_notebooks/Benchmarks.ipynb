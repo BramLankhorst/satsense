{
 "cells": [
  {
   "cell_type": "markdown",
   "metadata": {},
   "source": [
    "# Benchmarking of feature extraction modules"
   ]
  },
  {
   "cell_type": "code",
   "execution_count": 2,
   "metadata": {
    "collapsed": true
   },
   "outputs": [],
   "source": [
    "# Some common packages used throughout the notebook\n",
    "%load_ext autoreload\n",
    "%autoreload 2\n",
    "\n",
    "# Import the NumPy module\n",
    "import numpy as np\n",
    "\n",
    "# Convient for outputting dictionaries\n",
    "import json\n",
    "\n",
    "import matplotlib.pyplot as plt\n",
    "%matplotlib inline"
   ]
  },
  {
   "cell_type": "code",
   "execution_count": 3,
   "metadata": {
    "collapsed": true
   },
   "outputs": [],
   "source": [
    "from satsense.util import load_from_file, normalize_image, get_rgb_bands\n",
    "\n",
    "# Supported image formats include RGB, Quickbird and Worldview\n",
    "from satsense.util import RGB, QUICKBIRD, WORLDVIEW2\n",
    "\n",
    "# URI to the image\n",
    "imagefile = '/home/bweel/Documents/projects/dynaslum/data/satelite/056239125010_01/056239125010_01_P001_MUL/08NOV02054348-M2AS_R1C1-056239125010_01_P001.TIF'\n",
    "# Set the correct format here, it is used throughout the notebook\n",
    "bands = QUICKBIRD\n",
    "\n",
    "# Loading the file\n",
    "dataset, image = load_from_file(imagefile)\n",
    "normalized_image = normalize_image(image, bands)"
   ]
  },
  {
   "cell_type": "markdown",
   "metadata": {},
   "source": [
    "## Image Utilities"
   ]
  },
  {
   "cell_type": "code",
   "execution_count": 4,
   "metadata": {},
   "outputs": [
    {
     "name": "stdout",
     "output_type": "stream",
     "text": [
      "get_grayscale_image took on average 25.874199999996517 microseconds\n"
     ]
    }
   ],
   "source": [
    "import time\n",
    "from satsense.util import get_ubyte_image, get_grayscale_image\n",
    "from satsense.extract import CellGenerator\n",
    "\n",
    "generator = CellGenerator(normalized_image, 25)\n",
    "\n",
    "difference = 0\n",
    "number = 10000\n",
    "for i in range(number):\n",
    "    win = generator.next()\n",
    "\n",
    "    t0 = time.clock()\n",
    "    get_grayscale_image(win.window, bands=bands)\n",
    "    t1 = time.clock()\n",
    "\n",
    "    difference += t1 - t0\n",
    "\n",
    "difference *= 1000000\n",
    "print(\"get_grayscale_image took on average\", difference / number, \"microseconds\")"
   ]
  },
  {
   "cell_type": "code",
   "execution_count": 5,
   "metadata": {},
   "outputs": [
    {
     "name": "stdout",
     "output_type": "stream",
     "text": [
      "get_ubyte_image took on average 83.61029999999924 microseconds\n"
     ]
    }
   ],
   "source": [
    "import time\n",
    "from satsense.util import get_ubyte_image, get_grayscale_image\n",
    "from satsense.extract import CellGenerator\n",
    "\n",
    "generator = CellGenerator(normalized_image, 25)\n",
    "\n",
    "difference = 0\n",
    "number = 10000\n",
    "for i in range(number):\n",
    "    win = generator.next()\n",
    "\n",
    "    t0 = time.clock()\n",
    "    gray_ubyte = get_ubyte_image(get_grayscale_image(win.window, bands=bands))\n",
    "    t1 = time.clock()\n",
    "\n",
    "    difference += t1 - t0\n",
    "\n",
    "difference *= 1000000\n",
    "print(\"get_ubyte_image took on average\", difference / number, \"microseconds\")"
   ]
  },
  {
   "cell_type": "markdown",
   "metadata": {},
   "source": [
    "## Cell Generator"
   ]
  },
  {
   "cell_type": "code",
   "execution_count": 6,
   "metadata": {},
   "outputs": [
    {
     "name": "stdout",
     "output_type": "stream",
     "text": [
      "CellGenerator took on average 5.259300000001499 microseconds\n"
     ]
    }
   ],
   "source": [
    "import time\n",
    "from satsense.extract import CellGenerator\n",
    "\n",
    "generator = CellGenerator(normalized_image, 25)\n",
    "\n",
    "difference = 0\n",
    "number = 10000\n",
    "for i in range(number):\n",
    "    t0 = time.clock()\n",
    "    cell = generator.next()\n",
    "    t1 = time.clock()\n",
    "\n",
    "    difference += t1 - t0\n",
    "\n",
    "difference *= 1000000\n",
    "print(\"CellGenerator took on average\", difference / number, \"microseconds\")"
   ]
  },
  {
   "cell_type": "code",
   "execution_count": 7,
   "metadata": {},
   "outputs": [
    {
     "name": "stdout",
     "output_type": "stream",
     "text": [
      "SuperCell took on average 13.711699999997773  microseconds\n"
     ]
    }
   ],
   "source": [
    "import time\n",
    "from satsense.extract import CellGenerator, SuperCell\n",
    "\n",
    "# Setup\n",
    "generator = CellGenerator(normalized_image, 25)\n",
    "\n",
    "for i in range(15):\n",
    "    cell = generator.next()\n",
    "\n",
    "# Testing\n",
    "difference = 0\n",
    "number = 10000\n",
    "for i in range(number):\n",
    "    t0 = time.clock()\n",
    "    SuperCell(normalized_image, cell, 100)\n",
    "    t1 = time.clock()\n",
    "\n",
    "    difference += t1 - t0\n",
    "    \n",
    "    cell = generator.next()\n",
    "\n",
    "difference *= 1000000\n",
    "print(\"SuperCell took on average\", difference / number, \" microseconds\")"
   ]
  },
  {
   "cell_type": "markdown",
   "metadata": {},
   "source": [
    "## Features"
   ]
  },
  {
   "cell_type": "markdown",
   "metadata": {},
   "source": [
    "### Pantex"
   ]
  },
  {
   "cell_type": "code",
   "execution_count": 10,
   "metadata": {},
   "outputs": [
    {
     "name": "stdout",
     "output_type": "stream",
     "text": [
      "PanTex took on average 9836.829400000204  microseconds\n"
     ]
    }
   ],
   "source": [
    "from satsense.features import Pantex\n",
    "\n",
    "#\n",
    "generator = CellGenerator(normalized_image, 25)\n",
    "\n",
    "p = Pantex(windows=(100,))\n",
    "\n",
    "difference = 0\n",
    "number = 10000\n",
    "for i in range(number):\n",
    "    cell = generator.next()\n",
    "    t0 = time.clock()\n",
    "    p(normalized_image, cell, bands=bands)\n",
    "    t1 = time.clock()\n",
    "\n",
    "    difference += t1 - t0\n",
    "\n",
    "difference *= 1000000\n",
    "print(\"PanTex took on average\", difference / number, \" microseconds\")"
   ]
  },
  {
   "cell_type": "code",
   "execution_count": 39,
   "metadata": {},
   "outputs": [
    {
     "name": "stdout",
     "output_type": "stream",
     "text": [
      "Setup took on average 0.000374921499999607 PanTex took on average 0.009714037600000251  microseconds\n"
     ]
    }
   ],
   "source": [
    "from satsense.features import pantex\n",
    "from satsense.util import get_ubyte_image, get_grayscale_image\n",
    "from satsense.extract import CellGenerator, SuperCell\n",
    "\n",
    "#\n",
    "generator = CellGenerator(normalized_image, 25)\n",
    "\n",
    "difference = [0, 0]\n",
    "number = 10000\n",
    "for i in range(number):\n",
    "    t0 = time.clock()\n",
    "    cell = generator.next()\n",
    "    win = SuperCell(normalized_image, cell, 100)\n",
    "    gray_ubyte = get_ubyte_image(get_grayscale_image(win.window, bands=bands))\n",
    "    t1 = time.clock()\n",
    "    pantex(gray_ubyte)\n",
    "    t2 = time.clock()\n",
    "\n",
    "    difference[0] += t1 - t0\n",
    "    difference[1] += t2 - t1\n",
    "\n",
    "difference[0] *= 1000000\n",
    "difference[1] *= 1000000\n",
    "    \n",
    "print(\"Setup took on average\", difference[0] / number, \"PanTex took on average\", difference[1] / number, \" microseconds\")"
   ]
  },
  {
   "cell_type": "code",
   "execution_count": 43,
   "metadata": {},
   "outputs": [
    {
     "name": "stdout",
     "output_type": "stream",
     "text": [
      "Setup took on average 0.000374921499999607 PanTex took on average 0.009714037600000251  microseconds\n"
     ]
    }
   ],
   "source": [
    "difference[0] *= 1000000\n",
    "difference[1] *= 1000000\n",
    "    \n",
    "print(\"Setup took on average\", difference[0] / number, \"PanTex took on average\", difference[1] / number, \" microseconds\")"
   ]
  },
  {
   "cell_type": "code",
   "execution_count": 44,
   "metadata": {},
   "outputs": [
    {
     "name": "stdout",
     "output_type": "stream",
     "text": [
      "expected runtime is: 804.1606629836887 seconds\n"
     ]
    }
   ],
   "source": [
    "difference[0] = difference[0]\n",
    "difference[1] = difference[1]\n",
    "runtime = (difference[0] + difference[1]) / number\n",
    "runtime = runtime * 163 * 163 * 3\n",
    "\n",
    "print(\"expected runtime is:\", runtime, \"seconds\")"
   ]
  },
  {
   "cell_type": "code",
   "execution_count": 38,
   "metadata": {},
   "outputs": [
    {
     "name": "stdout",
     "output_type": "stream",
     "text": [
      "Rii dist angles first call took 109.00000000901855  microseconds\n",
      "Rii dist angles took on average 0.7185399999933679  microseconds\n"
     ]
    }
   ],
   "source": [
    "from satsense.features.glcm import get_rii_dist_angles\n",
    "\n",
    "t0 = time.clock()\n",
    "get_rii_dist_angles()\n",
    "t1 = time.clock()\n",
    "difference = t1 - t0\n",
    "print(\"Rii dist angles first call took\", difference * 1000000 , \" microseconds\")\n",
    "\n",
    "difference = 0\n",
    "number = 1000000\n",
    "for i in range(number):\n",
    "    t0 = time.clock()\n",
    "    get_rii_dist_angles()\n",
    "    t1 = time.clock()\n",
    "\n",
    "    difference += t1 - t0\n",
    "\n",
    "difference *= 1000000\n",
    "print(\"Rii dist angles took on average\", difference / number, \" microseconds\")"
   ]
  },
  {
   "cell_type": "markdown",
   "metadata": {},
   "source": [
    "### NDVI"
   ]
  },
  {
   "cell_type": "code",
   "execution_count": 13,
   "metadata": {},
   "outputs": [
    {
     "name": "stdout",
     "output_type": "stream",
     "text": [
      "NirNDVI took on average 39.501200000145786  microseconds\n"
     ]
    }
   ],
   "source": [
    "from satsense.features import NirNDVI\n",
    "\n",
    "#\n",
    "generator = CellGenerator(normalized_image, 25)\n",
    "\n",
    "ndvi = NirNDVI(windows=(25,))\n",
    "\n",
    "difference = 0\n",
    "number = 10000\n",
    "for i in range(number):\n",
    "    cell = generator.next()\n",
    "    t0 = time.clock()\n",
    "    ndvi(normalized_image, cell, bands=bands)\n",
    "    t1 = time.clock()\n",
    "\n",
    "    difference += t1 - t0\n",
    "\n",
    "difference *= 1000000\n",
    "print(\"NirNDVI took on average\", difference / number, \" microseconds\")"
   ]
  },
  {
   "cell_type": "code",
   "execution_count": 14,
   "metadata": {},
   "outputs": [
    {
     "name": "stdout",
     "output_type": "stream",
     "text": [
      "expected runtime is: 3.1485221484116197 seconds\n"
     ]
    }
   ],
   "source": [
    "runtime = difference / number\n",
    "runtime /= 1000000\n",
    "runtime = runtime * 163 * 163 * 3\n",
    "\n",
    "print(\"expected runtime is:\", runtime, \"seconds\")"
   ]
  },
  {
   "cell_type": "markdown",
   "metadata": {
    "collapsed": true
   },
   "source": [
    "## HoG"
   ]
  },
  {
   "cell_type": "code",
   "execution_count": 4,
   "metadata": {},
   "outputs": [
    {
     "name": "stdout",
     "output_type": "stream",
     "text": [
      "HistogramOfGradients took on average 9.055823000000041 milliseconds\n"
     ]
    }
   ],
   "source": [
    "import time\n",
    "from satsense.extract import CellGenerator\n",
    "from satsense.features import HistogramOfGradients\n",
    "\n",
    "generator = CellGenerator(normalized_image, 25)\n",
    "\n",
    "hog = HistogramOfGradients(windows=(25,))\n",
    "difference = 0\n",
    "number = 1000\n",
    "for i in range(number):\n",
    "    win = generator.next()\n",
    "\n",
    "    t0 = time.clock()\n",
    "    hog(normalized_image, win, bands=bands)\n",
    "    t1 = time.clock()\n",
    "\n",
    "    difference += t1 - t0\n",
    "\n",
    "difference *= 1000\n",
    "print(\"HistogramOfGradients took on average\", difference / number, \"milliseconds\")"
   ]
  },
  {
   "cell_type": "code",
   "execution_count": 5,
   "metadata": {},
   "outputs": [
    {
     "name": "stdout",
     "output_type": "stream",
     "text": [
      "expected runtime is: 721.8124838610033 seconds\n"
     ]
    }
   ],
   "source": [
    "runtime = difference / number\n",
    "runtime /= 1000\n",
    "runtime = runtime * 163 * 163 * 3\n",
    "\n",
    "print(\"expected runtime is:\", runtime, \"seconds\")"
   ]
  },
  {
   "cell_type": "code",
   "execution_count": null,
   "metadata": {
    "collapsed": true
   },
   "outputs": [],
   "source": []
  }
 ],
 "metadata": {
  "kernelspec": {
   "display_name": "Python [default]",
   "language": "python",
   "name": "python3"
  },
  "language_info": {
   "codemirror_mode": {
    "name": "ipython",
    "version": 3
   },
   "file_extension": ".py",
   "mimetype": "text/x-python",
   "name": "python",
   "nbconvert_exporter": "python",
   "pygments_lexer": "ipython3",
   "version": "3.5.3"
  }
 },
 "nbformat": 4,
 "nbformat_minor": 2
}
