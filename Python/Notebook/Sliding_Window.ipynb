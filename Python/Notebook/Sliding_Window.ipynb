{
 "cells": [
  {
   "cell_type": "code",
   "execution_count": 20,
   "metadata": {
    "collapsed": false
   },
   "outputs": [],
   "source": [
    "import numpy as np\n",
    "from skimage import io\n",
    "from scipy import stats\n",
    "from skimage.feature import greycoprops"
   ]
  },
  {
   "cell_type": "markdown",
   "metadata": {},
   "source": [
    "The co-occurrence map is a stack of images of the same size as the original image, in which - for each pixel - intensity levels are replaced by integer numbers that encode the co-occurrence of two intensities, namely Ii at that pixel and Ij at an offset pixel. The co-occurrence map has as many layers as we considered offsets (i.e. all the possible distance-angle pairs). By retaining the co-occurrence map you don't need to compute the GLCM at each position of the sliding window from the scratch, as you can reuse the previously computed co-occurrence maps to obtain the adjacency matrices (the GLCMs) for each distance-angle pair. This approach provides you with a significant speed gain.\n",
    "\n",
    "http://stackoverflow.com/questions/42459493/sliding-window-in-python-for-glcm-calculation"
   ]
  },
  {
   "cell_type": "code",
   "execution_count": null,
   "metadata": {
    "collapsed": true
   },
   "outputs": [],
   "source": [
    "# import the necessary packages\n",
    "import numpy as np\n",
    "\n",
    "# Malisiewicz et al.\n",
    "def non_max_suppression_fast(boxes, overlapThresh):\n",
    "\t# if there are no boxes, return an empty list\n",
    "\tif len(boxes) == 0:\n",
    "\t\treturn []\n",
    "\n",
    "\t# if the bounding boxes integers, convert them to floats --\n",
    "\t# this is important since we'll be doing a bunch of divisions\n",
    "\tif boxes.dtype.kind == \"i\":\n",
    "\t\tboxes = boxes.astype(\"float\")\n",
    "\n",
    "\t# initialize the list of picked indexes\t\n",
    "\tpick = []\n",
    "\n",
    "\t# grab the coordinates of the bounding boxes\n",
    "\tx1 = boxes[:,0]\n",
    "\ty1 = boxes[:,1]\n",
    "\tx2 = boxes[:,2]\n",
    "\ty2 = boxes[:,3]\n",
    "\n",
    "\t# compute the area of the bounding boxes and sort the bounding\n",
    "\t# boxes by the bottom-right y-coordinate of the bounding box\n",
    "\tarea = (x2 - x1 + 1) * (y2 - y1 + 1)\n",
    "\tidxs = np.argsort(y2)\n",
    "\n",
    "\t# keep looping while some indexes still remain in the indexes\n",
    "\t# list\n",
    "\twhile len(idxs) > 0:\n",
    "\t\t# grab the last index in the indexes list and add the\n",
    "\t\t# index value to the list of picked indexes\n",
    "\t\tlast = len(idxs) - 1\n",
    "\t\ti = idxs[last]\n",
    "\t\tpick.append(i)\n",
    "\n",
    "\t\t# find the largest (x, y) coordinates for the start of\n",
    "\t\t# the bounding box and the smallest (x, y) coordinates\n",
    "\t\t# for the end of the bounding box\n",
    "\t\txx1 = np.maximum(x1[i], x1[idxs[:last]])\n",
    "\t\tyy1 = np.maximum(y1[i], y1[idxs[:last]])\n",
    "\t\txx2 = np.minimum(x2[i], x2[idxs[:last]])\n",
    "\t\tyy2 = np.minimum(y2[i], y2[idxs[:last]])\n",
    "\n",
    "\t\t# compute the width and height of the bounding box\n",
    "\t\tw = np.maximum(0, xx2 - xx1 + 1)\n",
    "\t\th = np.maximum(0, yy2 - yy1 + 1)\n",
    "\n",
    "\t\t# compute the ratio of overlap\n",
    "\t\toverlap = (w * h) / area[idxs[:last]]\n",
    "\n",
    "\t\t# delete all indexes from the index list that have\n",
    "\t\tidxs = np.delete(idxs, np.concatenate(([last],\n",
    "\t\t\tnp.where(overlap > overlapThresh)[0])))\n",
    "\n",
    "\t# return only the bounding boxes that were picked using the\n",
    "\t# integer data type\n",
    "\treturn boxes[pick].astype(\"int\")"
   ]
  },
  {
   "cell_type": "code",
   "execution_count": 21,
   "metadata": {
    "collapsed": true
   },
   "outputs": [],
   "source": [
    "def offset(length, angle):\n",
    "    \"\"\"Return the offset in pixels for a given length and angle\"\"\"\n",
    "    dv = length * np.sign(-np.sin(angle)).astype(np.int32)\n",
    "    dh = length * np.sign(np.cos(angle)).astype(np.int32)\n",
    "    return dv, dh\n",
    "\n",
    "def crop(img, center, win):\n",
    "    \"\"\"Return a square crop of img centered at center (side = 2*win + 1)\"\"\"\n",
    "    row, col = center\n",
    "    side = 2*win + 1\n",
    "    first_row = row - win\n",
    "    first_col = col - win\n",
    "    last_row = first_row + side    \n",
    "    last_col = first_col + side\n",
    "    return img[first_row: last_row, first_col: last_col]"
   ]
  },
  {
   "cell_type": "code",
   "execution_count": 22,
   "metadata": {
    "collapsed": true
   },
   "outputs": [],
   "source": [
    "def cooc_maps(img, center, win, d=[1], theta=[0], levels=256):\n",
    "    \"\"\"\n",
    "    Return a set of co-occurrence maps for different d and theta in a square \n",
    "    crop centered at center (side = 2*w + 1)\n",
    "    \"\"\"\n",
    "    shape = (2*win + 1, 2*win + 1, len(d), len(theta))\n",
    "    cooc = np.zeros(shape=shape, dtype=np.int32)\n",
    "    row, col = center\n",
    "    Ii = crop(img, (row, col), win)\n",
    "    for d_index, length in enumerate(d):\n",
    "        for a_index, angle in enumerate(theta):\n",
    "            dv, dh = offset(length, angle)\n",
    "            Ij = crop(img, center=(row + dv, col + dh), win=win)\n",
    "            cooc[:, :, d_index, a_index] = encode_cooccurrence(Ii, Ij, levels)\n",
    "    return cooc\n",
    "\n",
    "def encode_cooccurrence(x, y, levels=256):\n",
    "    \"\"\"Return the code corresponding to co-occurrence of intensities x and y\"\"\"\n",
    "    return x*levels + y\n",
    "\n",
    "def decode_cooccurrence(code, levels=256):\n",
    "    \"\"\"Return the intensities x, y corresponding to code\"\"\"\n",
    "    return code//levels, np.mod(code, levels)    \n",
    "\n",
    "def compute_glcms(cooccurrence_maps, levels=256):\n",
    "    \"\"\"Compute the cooccurrence frequencies of the cooccurrence maps\"\"\"\n",
    "    Nr, Na = cooccurrence_maps.shape[2:]\n",
    "    glcms = np.zeros(shape=(levels, levels, Nr, Na), dtype=np.float64)\n",
    "    for r in range(Nr):\n",
    "        for a in range(Na):\n",
    "            table = stats.itemfreq(cooccurrence_maps[:, :, r, a])\n",
    "            codes = table[:, 0]\n",
    "            freqs = table[:, 1]/float(table[:, 1].sum())\n",
    "            i, j = decode_cooccurrence(codes, levels=levels)\n",
    "            glcms[i, j, r, a] = freqs\n",
    "    return glcms\n",
    "\n",
    "def compute_props(glcms, props=('contrast',)):\n",
    "    \"\"\"Return a feature vector corresponding to a set of GLCM\"\"\"\n",
    "    Nr, Na = glcms.shape[2:]\n",
    "    features = np.zeros(shape=(Nr, Na, len(props)))\n",
    "    for index, prop_name in enumerate(props):\n",
    "        features[:, :, index] = greycoprops(glcms, prop_name)\n",
    "    return features.ravel()\n",
    "\n",
    "def haralick_features(img, win, d, theta, levels, props):\n",
    "    \"\"\"Return a map of Haralick features (one feature vector per pixel)\"\"\"\n",
    "    rows, cols = img.shape\n",
    "    margin = win + max(d)\n",
    "    arr = np.pad(img, margin, mode='reflect')\n",
    "    n_features = len(d) * len(theta) * len(props)\n",
    "    feature_map = np.zeros(shape=(rows, cols, n_features), dtype=np.float64)\n",
    "    for m in xrange(rows):\n",
    "        for n in xrange(cols):\n",
    "            coocs = cooc_maps(arr, (m + margin, n + margin), win, d, theta, levels)\n",
    "            glcms = compute_glcms(coocs, levels)\n",
    "            feature_map[m, n, :] = compute_props(glcms, props)\n",
    "    return feature_map\n"
   ]
  },
  {
   "cell_type": "markdown",
   "metadata": {},
   "source": [
    "# DEMO\n",
    "\n",
    "The following results correspond to a (250, 200) pixels crop from a Landsat image. I have considered two distances, four angles, and two GLCM properties. This results in a 16-dimensional feature vector for each pixel. Notice that the sliding window is squared and its side is 2*win + 1 pixels (in this test a value of win = 19 was used). "
   ]
  },
  {
   "cell_type": "code",
   "execution_count": null,
   "metadata": {
    "collapsed": false
   },
   "outputs": [
    {
     "name": "stdout",
     "output_type": "stream",
     "text": [
      "(16384, 13148, 1)\n"
     ]
    }
   ],
   "source": [
    "sarfile = gdal.Open('/Users/droy/Desktop/Digital Globe/056239125010_01/056239125010_01_P001_PAN/08NOV02054348-P2AS_R1C2-056239125010_01_P001.TIF', gdal.GA_ReadOnly)\n",
    "print(sarfile.RasterYSize, sarfile.RasterXSize, sarfile.RasterCount)\n",
    "#band = sarfile.GetRasterBand(7)\n",
    "img = sarfile.ReadAsArray()\n",
    "win=19\n",
    "d = (1, 2)\n",
    "theta = (0, np.pi/4, np.pi/2, 3*np.pi/4)\n",
    "props = ('contrast', 'homogeneity')\n",
    "levels = 256\n",
    "feature_map = haralick_features(img, win, d, theta, levels, props)\n",
    "feature_map.shape\n",
    "feature_map[0, 0, :]    \n",
    "io.imshow(img)"
   ]
  },
  {
   "cell_type": "code",
   "execution_count": null,
   "metadata": {
    "collapsed": true
   },
   "outputs": [],
   "source": []
  }
 ],
 "metadata": {
  "kernelspec": {
   "display_name": "Python 2",
   "language": "python",
   "name": "python2"
  },
  "language_info": {
   "codemirror_mode": {
    "name": "ipython",
    "version": 2
   },
   "file_extension": ".py",
   "mimetype": "text/x-python",
   "name": "python",
   "nbconvert_exporter": "python",
   "pygments_lexer": "ipython2",
   "version": "2.7.13"
  }
 },
 "nbformat": 4,
 "nbformat_minor": 2
}
