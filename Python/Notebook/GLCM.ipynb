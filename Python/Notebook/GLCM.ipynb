{
 "cells": [
  {
   "cell_type": "code",
   "execution_count": 7,
   "metadata": {
    "collapsed": false,
    "deletable": true,
    "editable": true
   },
   "outputs": [],
   "source": [
    "import matplotlib.pyplot as plt\n",
    "import gdal, gdalconst\n",
    "import numpy as np\n",
    "from skimage.feature import greycomatrix, greycoprops\n",
    "\n",
    "# Import the \"gdal\" and \"gdal_array\" submodules from within the \"osgeo\" module\n",
    "from osgeo import gdal\n",
    "from osgeo import gdal_array"
   ]
  },
  {
   "cell_type": "code",
   "execution_count": 8,
   "metadata": {
    "collapsed": false,
    "deletable": true,
    "editable": true
   },
   "outputs": [
    {
     "name": "stdout",
     "output_type": "stream",
     "text": [
      "(16384, 13148, 1)\n"
     ]
    }
   ],
   "source": [
    "#Read SAR image into Numpy Array\n",
    "#filename = \"/Users/droy/Desktop/Digital Globe/056239125030_01/056239125030_01_P006_PAN/15MAY03051958-P2AS_R3C4-056239125030_01_P006.TIF'\"\n",
    "#sarfile = gdal.Open(filename, gdal.GA_ReadOnly)\n",
    "sarfile = gdal.Open('/Users/droy/Desktop/Digital Globe/056239125010_01/056239125010_01_P001_PAN/08NOV02054348-P2AS_R1C2-056239125010_01_P001.TIF', gdal.GA_ReadOnly)\n",
    "print(sarfile.RasterYSize, sarfile.RasterXSize, sarfile.RasterCount)\n",
    "#band = sarfile.GetRasterBand(7)\n",
    "sarraster = sarfile.ReadAsArray()"
   ]
  },
  {
   "cell_type": "code",
   "execution_count": 9,
   "metadata": {
    "collapsed": true,
    "deletable": true,
    "editable": true
   },
   "outputs": [],
   "source": [
    "#Create rasters to receive texture and define filenames\n",
    "contrastraster = np.copy(sarraster)\n",
    "contrastraster[:] = 0\n",
    "\n",
    "dissimilarityraster = np.copy(sarraster)\n",
    "dissimilarityraster[:] = 0\n",
    "\n",
    "homogeneityraster = np.copy(sarraster)\n",
    "homogeneityraster[:] = 0\n",
    "\n",
    "energyraster = np.copy(sarraster)\n",
    "energyraster[:] = 0\n",
    "\n",
    "correlationraster = np.copy(sarraster)\n",
    "correlationraster[:] = 0\n",
    "\n",
    "ASMraster = np.copy(sarraster)\n",
    "ASMraster[:] = 0\n"
   ]
  },
  {
   "cell_type": "code",
   "execution_count": 10,
   "metadata": {
    "collapsed": false,
    "deletable": true,
    "editable": true
   },
   "outputs": [
    {
     "name": "stdout",
     "output_type": "stream",
     "text": [
      "[[ 0.16666667  0.08333333  0.04166667  0.        ]\n",
      " [ 0.08333333  0.16666667  0.          0.        ]\n",
      " [ 0.04166667  0.          0.25        0.04166667]\n",
      " [ 0.          0.          0.04166667  0.08333333]]\n"
     ]
    }
   ],
   "source": [
    "#Compute 2 GLCMs: One for a 1-pixel offset to the right, and one for a 1-pixel offset upwards.\n",
    "\n",
    "image = np.array([[0, 0, 1, 1],\n",
    "                   [0, 0, 1, 1],\n",
    "                   [0, 2, 2, 2],\n",
    "                   [2, 2, 3, 3]], dtype=np.uint8)\n",
    "#result = greycomatrix(image, [1], [0, np.pi/4, np.pi/2, 3*np.pi/4],\n",
    "#                       levels=4)\n",
    "result = greycomatrix(image, [1], [0],  symmetric = True, normed = True, levels=4 )\n",
    "print result[:, :, 0, 0]\n",
    "\n",
    "#print result[:, :, 0, 1]\n",
    "\n",
    "#print result[:, :, 0, 2]\n",
    "\n",
    "#print result[:, :, 0, 3]"
   ]
  },
  {
   "cell_type": "code",
   "execution_count": null,
   "metadata": {
    "collapsed": false,
    "deletable": true,
    "editable": true
   },
   "outputs": [
    {
     "data": {
      "image/png": "[encoded data removed]",
      "text/plain": [
       "<matplotlib.figure.Figure at 0x10daa6d50>"
      ]
     },
     "metadata": {},
     "output_type": "display_data"
    },
    {
     "name": "stderr",
     "output_type": "stream",
     "text": [
      "/usr/local/lib/python2.7/site-packages/ipykernel/__main__.py:31: RuntimeWarning: divide by zero encountered in divide\n"
     ]
    }
   ],
   "source": [
    "# Create figure to receive results\n",
    "fig = plt.figure()\n",
    "fig.suptitle('GLCM Textures')\n",
    "\n",
    "# In first subplot add original SAR image\n",
    "ax = plt.subplot(241)\n",
    "plt.axis('off')\n",
    "ax.set_title('Original Image')\n",
    "plt.imshow(sarraster, cmap = 'gray')\n",
    "plt.show()\n",
    "#print sarraster.shape[0], sarraster.shape[1]\n",
    "#print sarraster[0: +4, 0 : +4]\n",
    "for i in range(sarraster.shape[0] ):\n",
    "    #print i,\n",
    "    for j in range(sarraster.shape[1] ):\n",
    "        #print j,\n",
    "        # windows needs to fit completely in image\n",
    "        if i > (contrastraster.shape[0] - 4) or j > (contrastraster.shape[0] - 4):\n",
    "            continue\n",
    "        \n",
    "        # Define size of moving window\n",
    "        if i >= 3 and j >= 3:\n",
    "            glcm_window = sarraster[i-3: i+4, j-3 : j+4]\n",
    "        elif i >= 3 and j < 3:\n",
    "            glcm_window = sarraster[i-3: i+4, 0 : j+4]\n",
    "        elif i < 3 and j >= 3:\n",
    "            glcm_window = sarraster[0: i+4, j-3 : j+4]\n",
    "        elif i < 3 and j < 3:\n",
    "            glcm_window = sarraster[0: i+4, 0 : j+4]\n",
    "            \n",
    "        glcm_window = glcm_window/(glcm_window.max() - glcm_window.min())\n",
    "        #print glcm_window.max()\n",
    "        # Calculate GLCM and textures\n",
    "        glcm = greycomatrix(glcm_window, [1], [0],  symmetric = True, normed = True )\n",
    "\n",
    "        # Calculate texture and write into raster where moving window is centered\n",
    "        contrastraster[i,j]      = greycoprops(glcm, 'contrast')\n",
    "        dissimilarityraster[i,j] = greycoprops(glcm, 'dissimilarity')\n",
    "        homogeneityraster[i,j]   = greycoprops(glcm, 'homogeneity')\n",
    "        energyraster[i,j]        = greycoprops(glcm, 'energy')\n",
    "        correlationraster[i,j]   = greycoprops(glcm, 'correlation')\n",
    "        ASMraster[i,j]           = greycoprops(glcm, 'ASM')\n",
    "        glcm = None\n",
    "        glcm_window = None\n",
    "        \n",
    "        \n",
    "\n",
    "\n",
    "texturelist = {1: 'contrast', 2: 'dissimilarity', 3: ' homogeneity', 4: 'energy', 5: 'correlation', 6: 'ASM'}\n",
    "for key in texturelist:\n",
    "    ax = plt.subplot(2,3,key)\n",
    "    plt.axis('off')\n",
    "    ax.set_title(texturelist[key])\n",
    "    plt.imshow(eval(texturelist[key] + \"raster\"), cmap = 'gray')\n",
    "\n",
    "plt.show()"
   ]
  },
  {
   "cell_type": "code",
   "execution_count": null,
   "metadata": {
    "collapsed": true,
    "deletable": true,
    "editable": true
   },
   "outputs": [],
   "source": []
  }
 ],
 "metadata": {
  "anaconda-cloud": {},
  "kernelspec": {
   "display_name": "Python 2",
   "language": "python",
   "name": "python2"
  },
  "language_info": {
   "codemirror_mode": {
    "name": "ipython",
    "version": 2
   },
   "file_extension": ".py",
   "mimetype": "text/x-python",
   "name": "python",
   "nbconvert_exporter": "python",
   "pygments_lexer": "ipython2",
   "version": "2.7.13"
  }
 },
 "nbformat": 4,
 "nbformat_minor": 0
}
