{
 "cells": [
  {
   "cell_type": "markdown",
   "metadata": {},
   "source": [
    "# Jaccard similarity score between binary masks- ground truth and segmentation"
   ]
  },
  {
   "cell_type": "markdown",
   "metadata": {},
   "source": [
    "This notebook illustrates the calculation of the Jaccard index (sklearn implementation) between 2 binary masks for 3 classes of the 2006 QuickBird image of Klayan, India."
   ]
  },
  {
   "cell_type": "markdown",
   "metadata": {},
   "source": [
    "## Load the truth and segmentation masks from disk"
   ]
  },
  {
   "cell_type": "markdown",
   "metadata": {},
   "source": [
    "Python package imports:"
   ]
  },
  {
   "cell_type": "code",
   "execution_count": 9,
   "metadata": {
    "collapsed": false
   },
   "outputs": [],
   "source": [
    "# import\n",
    "import os\n",
    "from matplotlib.pyplot import imshow\n",
    "import matplotlib.pyplot as plt\n",
    "%matplotlib inline\n",
    "\n",
    "import numpy as np\n",
    "from scipy.misc import imread\n",
    "from sklearn.metrics import jaccard_similarity_score as jss"
   ]
  },
  {
   "cell_type": "markdown",
   "metadata": {},
   "source": [
    "Paths and filenames:"
   ]
  },
  {
   "cell_type": "code",
   "execution_count": 10,
   "metadata": {
    "collapsed": true
   },
   "outputs": [],
   "source": [
    "# data paths\n",
    "TRUTH_MASKS_PATH = '/home/elena/DynaSlum/Data/Kalyan/Rasterized_Lourens/'\n",
    "RESULTS_MASKS_PATH = '/home/elena/DynaSlum/Results/Segmentation/'\n",
    "\n",
    "# masks filenames\n",
    "ext = 'tif'\n",
    "slum_mask_fname = 'slums_mask' + '.' + ext\n",
    "truth_slum_mask_fname = 'all_slums' + '.' + ext\n",
    "builtup_mask_fname = 'builtup_mask' + '.' + ext\n",
    "nonbuiltup_mask_fname = 'nonbuiltup_mask' + '.' + ext\n",
    "\n",
    "# masks full filenames\n",
    "truth_slum_mask_fullfname = os.path.join(TRUTH_MASKS_PATH, truth_slum_mask_fname)\n",
    "truth_builtup_mask_fullfname = os.path.join(TRUTH_MASKS_PATH, builtup_mask_fname)\n",
    "truth_nonbuiltup_mask_fullfname = os.path.join(TRUTH_MASKS_PATH, nonbuiltup_mask_fname)\n",
    "\n",
    "result_slum_mask_fullfname = os.path.join(RESULTS_MASKS_PATH, slum_mask_fname)\n",
    "result_builtup_mask_fullfname = os.path.join(RESULTS_MASKS_PATH, builtup_mask_fname)\n",
    "result_nonbuiltup_mask_fullfname = os.path.join(RESULTS_MASKS_PATH, nonbuiltup_mask_fname)\n"
   ]
  },
  {
   "cell_type": "markdown",
   "metadata": {},
   "source": [
    "Load the masks onto variables:"
   ]
  },
  {
   "cell_type": "code",
   "execution_count": 11,
   "metadata": {
    "collapsed": false
   },
   "outputs": [],
   "source": [
    "truth_slum_mask = imread(truth_slum_mask_fullfname)\n",
    "result_slum_mask = imread(result_slum_mask_fullfname)\n",
    "\n",
    "truth_builtup_mask = imread(truth_builtup_mask_fullfname)\n",
    "result_builtup_mask = imread(result_builtup_mask_fullfname)\n",
    "\n",
    "truth_nonbuiltup_mask = imread(truth_nonbuiltup_mask_fullfname)\n",
    "result_nonbuiltup_mask = imread(result_nonbuiltup_mask_fullfname)\n"
   ]
  },
  {
   "cell_type": "markdown",
   "metadata": {},
   "source": [
    "Print slum masks sizes and visualize them:"
   ]
  },
  {
   "cell_type": "code",
   "execution_count": 12,
   "metadata": {
    "collapsed": false
   },
   "outputs": [
    {
     "name": "stdout",
     "output_type": "stream",
     "text": [
      "Truth slum mask shape:  (6223, 4872)\n",
      "Result slum mask shape:  (6223, 4872)\n"
     ]
    },
    {
     "data": {
      "text/plain": [
       "<matplotlib.text.Text at 0x7f8bd4946208>"
      ]
     },
     "execution_count": 12,
     "metadata": {},
     "output_type": "execute_result"
    },
    {
     "data": {
      "image/png": "[encoded data removed]",
      "text/plain": [
       "<matplotlib.figure.Figure at 0x7f8bd78d6f60>"
      ]
     },
     "metadata": {},
     "output_type": "display_data"
    }
   ],
   "source": [
    "print(\"Truth slum mask shape: \", truth_slum_mask.shape)\n",
    "print(\"Result slum mask shape: \", result_slum_mask.shape)\n",
    "f, (ax1, ax2) = plt.subplots(1, 2, sharey=True)\n",
    "ax1.imshow(truth_slum_mask,cmap='gray')\n",
    "ax1.set_title('Slum mask: truth')\n",
    "ax2.imshow(result_slum_mask,cmap='gray')\n",
    "ax2.set_title('Slum mask: result')"
   ]
  },
  {
   "cell_type": "markdown",
   "metadata": {},
   "source": [
    "Print builtup masks sizes and visualize them:"
   ]
  },
  {
   "cell_type": "code",
   "execution_count": 13,
   "metadata": {
    "collapsed": false
   },
   "outputs": [
    {
     "name": "stdout",
     "output_type": "stream",
     "text": [
      "Truth builtup mask shape:  (6223, 4872)\n",
      "Result builtup mask shape:  (6223, 4872)\n"
     ]
    },
    {
     "data": {
      "text/plain": [
       "<matplotlib.text.Text at 0x7f8bd481e780>"
      ]
     },
     "execution_count": 13,
     "metadata": {},
     "output_type": "execute_result"
    },
    {
     "data": {
      "image/png": "[encoded data removed]",
      "text/plain": [
       "<matplotlib.figure.Figure at 0x7f8bd482d438>"
      ]
     },
     "metadata": {},
     "output_type": "display_data"
    }
   ],
   "source": [
    "print(\"Truth builtup mask shape: \", truth_builtup_mask.shape)\n",
    "print(\"Result builtup mask shape: \", result_builtup_mask.shape)\n",
    "\n",
    "f, (ax1, ax2) = plt.subplots(1, 2, sharey=True)\n",
    "ax1.imshow(truth_builtup_mask,cmap='gray')\n",
    "ax1.set_title('Builtup mask: truth')\n",
    "ax2.imshow(result_builtup_mask,cmap='gray')\n",
    "ax2.set_title('Builtup mask: result')"
   ]
  },
  {
   "cell_type": "markdown",
   "metadata": {},
   "source": [
    "Print nonbuiltup masks sizes and visualize them:"
   ]
  },
  {
   "cell_type": "code",
   "execution_count": 14,
   "metadata": {
    "collapsed": false
   },
   "outputs": [
    {
     "name": "stdout",
     "output_type": "stream",
     "text": [
      "Truth nonbuiltup mask shape:  (6223, 4872)\n",
      "Result nonbuiltup mask shape:  (6223, 4872)\n"
     ]
    },
    {
     "data": {
      "text/plain": [
       "<matplotlib.text.Text at 0x7f8bd4726160>"
      ]
     },
     "execution_count": 14,
     "metadata": {},
     "output_type": "execute_result"
    },
    {
     "data": {
      "image/png": "[encoded data removed]",
      "text/plain": [
       "<matplotlib.figure.Figure at 0x7f8bd73d0438>"
      ]
     },
     "metadata": {},
     "output_type": "display_data"
    }
   ],
   "source": [
    "print(\"Truth nonbuiltup mask shape: \", truth_nonbuiltup_mask.shape)\n",
    "print(\"Result nonbuiltup mask shape: \", result_nonbuiltup_mask.shape)\n",
    "\n",
    "f, (ax1, ax2) = plt.subplots(1, 2, sharey=True)\n",
    "ax1.imshow(truth_nonbuiltup_mask,cmap='gray')\n",
    "ax1.set_title('Nonbuiltup mask: truth')\n",
    "ax2.imshow(result_nonbuiltup_mask,cmap='gray')\n",
    "ax2.set_title('Nonbuiltup mask: result')"
   ]
  },
  {
   "cell_type": "markdown",
   "metadata": {
    "collapsed": true
   },
   "source": [
    "## Jaccard Similarity Score (JSS) computation"
   ]
  },
  {
   "cell_type": "markdown",
   "metadata": {},
   "source": [
    "JSS between truth and result slum masks:"
   ]
  },
  {
   "cell_type": "code",
   "execution_count": 15,
   "metadata": {
    "collapsed": false
   },
   "outputs": [
    {
     "data": {
      "text/plain": [
       "0.27547755268903273"
      ]
     },
     "execution_count": 15,
     "metadata": {},
     "output_type": "execute_result"
    }
   ],
   "source": [
    "jss(truth_slum_mask, result_slum_mask)"
   ]
  },
  {
   "cell_type": "markdown",
   "metadata": {},
   "source": [
    "JSS between truth and result buildup masks:"
   ]
  },
  {
   "cell_type": "code",
   "execution_count": 16,
   "metadata": {
    "collapsed": false
   },
   "outputs": [
    {
     "data": {
      "text/plain": [
       "0.68232154564836522"
      ]
     },
     "execution_count": 16,
     "metadata": {},
     "output_type": "execute_result"
    }
   ],
   "source": [
    "jss(truth_builtup_mask, result_builtup_mask)"
   ]
  },
  {
   "cell_type": "markdown",
   "metadata": {},
   "source": [
    "JSS between truth and result nonbuildup masks:"
   ]
  },
  {
   "cell_type": "code",
   "execution_count": 17,
   "metadata": {
    "collapsed": false
   },
   "outputs": [
    {
     "data": {
      "text/plain": [
       "0.70546410353933864"
      ]
     },
     "execution_count": 17,
     "metadata": {},
     "output_type": "execute_result"
    }
   ],
   "source": [
    "jss(truth_nonbuiltup_mask, result_nonbuiltup_mask)"
   ]
  },
  {
   "cell_type": "markdown",
   "metadata": {},
   "source": [
    "Some sanity checks below, to be removed for export and final version!"
   ]
  },
  {
   "cell_type": "code",
   "execution_count": 18,
   "metadata": {
    "collapsed": false
   },
   "outputs": [
    {
     "data": {
      "text/plain": [
       "array([[  0,   0,   0,   0,   0,   0,   0,   0,   0, 255, 255, 255, 255,\n",
       "        255, 255, 255, 255, 255, 255, 255],\n",
       "       [  0,   0,   0,   0,   0,   0,   0,   0,   0, 255, 255, 255, 255,\n",
       "        255, 255, 255, 255, 255, 255, 255],\n",
       "       [  0,   0,   0,   0,   0,   0,   0,   0,   0, 255, 255, 255, 255,\n",
       "        255, 255, 255, 255, 255, 255, 255],\n",
       "       [  0,   0,   0,   0,   0,   0,   0,   0,   0, 255, 255, 255, 255,\n",
       "        255, 255, 255, 255, 255, 255, 255],\n",
       "       [  0,   0,   0,   0,   0,   0,   0,   0,   0,   0, 255, 255, 255,\n",
       "        255, 255, 255, 255, 255, 255, 255],\n",
       "       [  0,   0,   0,   0,   0,   0,   0,   0,   0,   0, 255, 255, 255,\n",
       "        255, 255, 255, 255, 255, 255, 255],\n",
       "       [  0,   0,   0,   0,   0,   0,   0,   0,   0,   0, 255, 255, 255,\n",
       "        255, 255, 255, 255, 255, 255, 255],\n",
       "       [  0,   0,   0,   0,   0,   0,   0,   0,   0,   0, 255, 255, 255,\n",
       "        255, 255, 255, 255, 255, 255, 255],\n",
       "       [  0,   0,   0,   0,   0,   0,   0,   0,   0,   0, 255, 255, 255,\n",
       "        255, 255, 255, 255, 255, 255, 255],\n",
       "       [  0,   0,   0,   0,   0,   0,   0,   0,   0,   0,   0, 255, 255,\n",
       "        255, 255, 255, 255, 255, 255, 255],\n",
       "       [  0,   0,   0,   0,   0,   0,   0,   0,   0,   0,   0, 255, 255,\n",
       "        255, 255, 255, 255, 255, 255, 255],\n",
       "       [  0,   0,   0,   0,   0,   0,   0,   0,   0,   0,   0, 255, 255,\n",
       "        255, 255, 255, 255, 255, 255, 255],\n",
       "       [  0,   0,   0,   0,   0,   0,   0,   0,   0,   0,   0, 255, 255,\n",
       "        255, 255, 255, 255, 255, 255, 255],\n",
       "       [  0,   0,   0,   0,   0,   0,   0,   0,   0,   0,   0,   0, 255,\n",
       "        255, 255, 255, 255, 255, 255, 255],\n",
       "       [  0,   0,   0,   0,   0,   0,   0,   0,   0,   0,   0,   0, 255,\n",
       "        255, 255, 255, 255, 255, 255, 255],\n",
       "       [  0,   0,   0,   0,   0,   0,   0,   0,   0,   0,   0,   0, 255,\n",
       "        255, 255, 255, 255, 255, 255, 255],\n",
       "       [  0,   0,   0,   0,   0,   0,   0,   0,   0,   0,   0,   0, 255,\n",
       "        255, 255, 255, 255, 255, 255, 255],\n",
       "       [  0,   0,   0,   0,   0,   0,   0,   0,   0,   0,   0,   0, 255,\n",
       "        255, 255, 255, 255, 255, 255, 255],\n",
       "       [  0,   0,   0,   0,   0,   0,   0,   0,   0,   0,   0,   0,   0,\n",
       "        255, 255, 255, 255, 255, 255, 255],\n",
       "       [  0,   0,   0,   0,   0,   0,   0,   0,   0,   0,   0,   0,   0,\n",
       "        255, 255, 255, 255, 255, 255, 255]], dtype=uint8)"
      ]
     },
     "execution_count": 18,
     "metadata": {},
     "output_type": "execute_result"
    }
   ],
   "source": [
    "truth_slum_mask[2100:2120, 500:520]"
   ]
  },
  {
   "cell_type": "code",
   "execution_count": 19,
   "metadata": {
    "collapsed": false
   },
   "outputs": [
    {
     "data": {
      "text/plain": [
       "0.75"
      ]
     },
     "execution_count": 19,
     "metadata": {},
     "output_type": "execute_result"
    }
   ],
   "source": [
    "jss(np.array([[0, 1], [1, 1]])*255, np.ones((2, 2))*255)"
   ]
  },
  {
   "cell_type": "code",
   "execution_count": 20,
   "metadata": {
    "collapsed": false
   },
   "outputs": [
    {
     "data": {
      "text/plain": [
       "0.75"
      ]
     },
     "execution_count": 20,
     "metadata": {},
     "output_type": "execute_result"
    }
   ],
   "source": [
    "jss(np.array([[0, 1], [1, 1]]), np.ones((2, 2)))"
   ]
  },
  {
   "cell_type": "code",
   "execution_count": null,
   "metadata": {
    "collapsed": true
   },
   "outputs": [],
   "source": []
  }
 ],
 "metadata": {
  "kernelspec": {
   "display_name": "Python 3",
   "language": "python",
   "name": "python3"
  },
  "language_info": {
   "codemirror_mode": {
    "name": "ipython",
    "version": 3
   },
   "file_extension": ".py",
   "mimetype": "text/x-python",
   "name": "python",
   "nbconvert_exporter": "python",
   "pygments_lexer": "ipython3",
   "version": "3.6.0"
  }
 },
 "nbformat": 4,
 "nbformat_minor": 2
}
