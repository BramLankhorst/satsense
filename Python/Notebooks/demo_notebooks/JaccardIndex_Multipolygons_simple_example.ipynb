{
 "cells": [
  {
   "cell_type": "markdown",
   "metadata": {
    "collapsed": true
   },
   "source": [
    "# Simple example of Jaccard index between multi-polygons computaion \n",
    "\n",
    "## Version using the 'performance' package of Satsense"
   ]
  },
  {
   "cell_type": "markdown",
   "metadata": {},
   "source": [
    "### Python package imports"
   ]
  },
  {
   "cell_type": "code",
   "execution_count": 1,
   "metadata": {
    "collapsed": true
   },
   "outputs": [],
   "source": [
    "from matplotlib import pyplot\n",
    "from shapely.geometry import MultiPolygon\n",
    "from satsense.util.shapefile import show_multipolygon as shmp # visualization of multipolygons\n",
    "from satsense.performance.jaccard_similarity import jaccard_index_multipolygons as jim # jaccard index computation"
   ]
  },
  {
   "cell_type": "markdown",
   "metadata": {},
   "source": [
    "### Visualization parameters"
   ]
  },
  {
   "cell_type": "code",
   "execution_count": 2,
   "metadata": {
    "collapsed": true
   },
   "outputs": [],
   "source": [
    "RED = '#FF0000'\n",
    "GREEN = '#008000'\n",
    "al = 0.8\n",
    "\n",
    "extent = [-1, -1, 5, 5] # format of extent is [xmin, ymin, xmax, ymax]"
   ]
  },
  {
   "cell_type": "markdown",
   "metadata": {},
   "source": [
    " ## Defining 2 simple multipolygons and visualizing them "
   ]
  },
  {
   "cell_type": "code",
   "execution_count": 3,
   "metadata": {},
   "outputs": [
    {
     "data": {
      "image/png": "[encoded data removed]",
      "text/plain": [
       "<matplotlib.figure.Figure at 0x7ff72f9c7cf8>"
      ]
     },
     "metadata": {},
     "output_type": "display_data"
    }
   ],
   "source": [
    "# 1: valid multi-polygon\n",
    "fig = pyplot.figure(1, dpi=90)\n",
    "\n",
    "ax = fig.add_subplot(131)\n",
    "\n",
    "a = [(0, 0), (0, 1), (1, 1), (1, 0), (0, 0)]\n",
    "b = [(1, 1), (1, 2), (2, 2), (2, 1), (1, 1)]\n",
    "\n",
    "multi1 = MultiPolygon([[a, []], [b, []]])\n",
    "\n",
    "shmp(multi1, ax, True, extent, RED, al, 'multi1')\n",
    "\n",
    "\n",
    "# 2: valid multi-polygon\n",
    "ax = fig.add_subplot(132)\n",
    "\n",
    "c = [(0, 0), (0, 2), (2, 2), (2, 0), (0, 0)]\n",
    "d = [(3, 3), (3, 4), (4, 4), (4, 3), (3, 3)]\n",
    "\n",
    "multi2 = MultiPolygon([[c, []], [d, []]])\n",
    "\n",
    "shmp(multi2, ax, True, extent, GREEN, al, 'multi2')\n",
    "\n",
    "# 3: overplay of the polygons\n",
    "ax = fig.add_subplot(133)\n",
    "\n",
    "shmp(multi2, ax, True, extent, GREEN, al-0.2, '')  \n",
    "shmp(multi1, ax, True, extent, RED, al-0.2, 'multi1 over multi2')    \n",
    "    \n",
    "pyplot.show()"
   ]
  },
  {
   "cell_type": "markdown",
   "metadata": {
    "collapsed": true
   },
   "source": [
    "## Jaccard Index between the Union between the 2 multipolygons."
   ]
  },
  {
   "cell_type": "code",
   "execution_count": 4,
   "metadata": {},
   "outputs": [
    {
     "data": {
      "text/plain": [
       "0.4"
      ]
     },
     "execution_count": 4,
     "metadata": {},
     "output_type": "execute_result"
    }
   ],
   "source": [
    "jim(multi1, multi2)\n"
   ]
  }
 ],
 "metadata": {
  "anaconda-cloud": {},
  "kernelspec": {
   "display_name": "Python [conda env:satelite]",
   "language": "python",
   "name": "conda-env-satelite-py"
  },
  "language_info": {
   "codemirror_mode": {
    "name": "ipython",
    "version": 3
   },
   "file_extension": ".py",
   "mimetype": "text/x-python",
   "name": "python",
   "nbconvert_exporter": "python",
   "pygments_lexer": "ipython3",
   "version": "3.5.3"
  }
 },
 "nbformat": 4,
 "nbformat_minor": 2
}
