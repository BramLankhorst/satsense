{
 "cells": [
  {
   "cell_type": "markdown",
   "metadata": {
    "collapsed": true
   },
   "source": [
    "# Simple example of Jaccard index between multi-polygons computaion \n",
    "\n",
    "## Version using the 'performance' package of Satsense"
   ]
  },
  {
   "cell_type": "markdown",
   "metadata": {},
   "source": [
    "## Imports and visualization functions"
   ]
  },
  {
   "cell_type": "code",
   "execution_count": 1,
   "metadata": {
    "collapsed": true
   },
   "outputs": [],
   "source": [
    "from matplotlib import pyplot\n",
    "from shapely.geometry import MultiPolygon\n",
    "from descartes.patch import PolygonPatch\n",
    "from satsense.performance.jaccard_similarity import jaccard_index_multipolygons as jim"
   ]
  },
  {
   "cell_type": "code",
   "execution_count": 2,
   "metadata": {
    "collapsed": true
   },
   "outputs": [],
   "source": [
    "RED = '#FF0000'\n",
    "GREEN = '#008000'\n",
    "al = 0.8\n",
    "\n",
    "def plot_coords(ax, ob):\n",
    "    x, y = ob.xy\n",
    "    ax.plot(x, y, 'o', color='#999999', zorder=1)\n",
    "    \n",
    "def show_multipolygon(multipolygon, axis, xrange, yrange, color, al, title):\n",
    "        \n",
    "    for polygon in multipolygon:\n",
    "        plot_coords(axis, polygon.exterior)\n",
    "        patch = PolygonPatch(polygon, facecolor=color, edgecolor=color, alpha=al, zorder=2)\n",
    "        axis.add_patch(patch)\n",
    "   \n",
    "    axis.set_xlim(*xrange)\n",
    "    axis.set_xticks(range(*xrange))\n",
    "    axis.set_ylim(*yrange)\n",
    "    axis.set_yticks(range(*yrange))\n",
    "    axis.set_aspect(1)\n",
    "            \n",
    "    axis.set_title(title)\n",
    "    \n",
    "    return axis"
   ]
  },
  {
   "cell_type": "markdown",
   "metadata": {},
   "source": [
    " ## Defining 2 simple multipolygons and visualizing them "
   ]
  },
  {
   "cell_type": "code",
   "execution_count": 3,
   "metadata": {},
   "outputs": [
    {
     "data": {
      "image/png": "[encoded data removed]",
      "text/plain": [
       "<matplotlib.figure.Figure at 0x7f1259cf7a90>"
      ]
     },
     "metadata": {},
     "output_type": "display_data"
    }
   ],
   "source": [
    "# 1: valid multi-polygon\n",
    "fig = pyplot.figure(1, dpi=90)\n",
    "\n",
    "xrange = [-1, 5]\n",
    "yrange = [-1, 5]\n",
    "\n",
    "ax = fig.add_subplot(131)\n",
    "\n",
    "a = [(0, 0), (0, 1), (1, 1), (1, 0), (0, 0)]\n",
    "b = [(1, 1), (1, 2), (2, 2), (2, 1), (1, 1)]\n",
    "\n",
    "multi1 = MultiPolygon([[a, []], [b, []]])\n",
    "\n",
    "show_multipolygon(multi1, ax, xrange, yrange, RED, al, 'multi1')\n",
    "\n",
    "\n",
    "# 2: valid multi-polygon\n",
    "ax = fig.add_subplot(132)\n",
    "\n",
    "c = [(0, 0), (0, 2), (2, 2), (2, 0), (0, 0)]\n",
    "d = [(3, 3), (3, 4), (4, 4), (4, 3), (3, 3)]\n",
    "\n",
    "multi2 = MultiPolygon([[c, []], [d, []]])\n",
    "\n",
    "show_multipolygon(multi2, ax, xrange, yrange, GREEN, al, 'multi2')\n",
    "\n",
    "# 3: overplay of the polygons\n",
    "ax = fig.add_subplot(133)\n",
    "\n",
    "show_multipolygon(multi2, ax, xrange, yrange, GREEN, al-0.2, '')  \n",
    "show_multipolygon(multi1, ax, xrange, yrange, RED, al-0.2, 'multi1 over multi2')    \n",
    "    \n",
    "pyplot.show()"
   ]
  },
  {
   "cell_type": "markdown",
   "metadata": {
    "collapsed": true
   },
   "source": [
    "## Jaccard Index between the Union between the 2 multipolygons."
   ]
  },
  {
   "cell_type": "code",
   "execution_count": 4,
   "metadata": {},
   "outputs": [
    {
     "data": {
      "text/plain": [
       "0.4"
      ]
     },
     "execution_count": 4,
     "metadata": {},
     "output_type": "execute_result"
    }
   ],
   "source": [
    "jim(multi1, multi2)\n"
   ]
  }
 ],
 "metadata": {
  "anaconda-cloud": {},
  "kernelspec": {
   "display_name": "Python [conda env:satelite]",
   "language": "python",
   "name": "conda-env-satelite-py"
  },
  "language_info": {
   "codemirror_mode": {
    "name": "ipython",
    "version": 3
   },
   "file_extension": ".py",
   "mimetype": "text/x-python",
   "name": "python",
   "nbconvert_exporter": "python",
   "pygments_lexer": "ipython3",
   "version": "3.5.3"
  }
 },
 "nbformat": 4,
 "nbformat_minor": 2
}
