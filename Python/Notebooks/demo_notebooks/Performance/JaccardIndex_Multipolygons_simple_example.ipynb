{
 "cells": [
  {
   "cell_type": "markdown",
   "metadata": {
    "collapsed": true
   },
   "source": [
    "# Simple example of Jaccard index computation between 2 multi-polygons "
   ]
  },
  {
   "cell_type": "markdown",
   "metadata": {},
   "source": [
    "This notebook illustrates the computation of Jaccard similarity index between two simple multi-polygons using `shapely` and `satsense` python libraries."
   ]
  },
  {
   "cell_type": "markdown",
   "metadata": {},
   "source": [
    " ### Creating  2 simple multi-polygons and visualizing them "
   ]
  },
  {
   "cell_type": "code",
   "execution_count": 1,
   "metadata": {},
   "outputs": [
    {
     "data": {
      "image/png": "[encoded data removed]",
      "text/plain": [
       "<matplotlib.figure.Figure at 0x7efe9b77ff28>"
      ]
     },
     "metadata": {},
     "output_type": "display_data"
    }
   ],
   "source": [
    "# Python, shapely and satsense package imports\n",
    "from matplotlib import pyplot\n",
    "from shapely.geometry import MultiPolygon\n",
    "from satsense.util.shapefile import show_multipolygon as shmp # visualization of multipolygons\n",
    "\n",
    "# define the nodes of valid multi-polygons\n",
    "a = [(0, 0), (0, 1), (1, 1), (1, 0), (0, 0)]\n",
    "b = [(1, 1), (1, 2), (2, 2), (2, 1), (1, 1)]\n",
    "\n",
    "multi1 = MultiPolygon([[a, []], [b, []]])\n",
    "\n",
    "c = [(0, 0), (0, 2), (2, 2), (2, 0), (0, 0)]\n",
    "d = [(3, 3), (3, 4), (4, 4), (4, 3), (3, 3)]\n",
    "\n",
    "multi2 = MultiPolygon([[c, []], [d, []]])\n",
    "\n",
    "# Visualization parameters\n",
    "RED = '#FF0000'\n",
    "GREEN = '#008000'\n",
    "al = 0.8\n",
    "\n",
    "extent = [-1, -1, 5, 5] # format of extent is [xmin, ymin, xmax, ymax]\n",
    "\n",
    "# Visualize the multi-polygons\n",
    "fig = pyplot.figure(1, dpi=90)\n",
    "\n",
    "ax = fig.add_subplot(131)\n",
    "shmp(multi1, ax, True, extent, RED, al, 'multi-polygon 1')\n",
    "ax = fig.add_subplot(132)\n",
    "shmp(multi2, ax, True, extent, GREEN, al, 'multi-polygon 2')\n",
    "ax = fig.add_subplot(133)\n",
    "shmp(multi2, ax, True, extent, GREEN, al-0.2, '') \n",
    "shmp(multi1, ax, True, extent, RED, al-0.2, 'overlay multi-\\n polygons 1 and 2')    \n",
    "    \n",
    "pyplot.show()"
   ]
  },
  {
   "cell_type": "markdown",
   "metadata": {
    "collapsed": true
   },
   "source": [
    "### Jaccard Index between the 2 multi-polygons"
   ]
  },
  {
   "cell_type": "code",
   "execution_count": 2,
   "metadata": {},
   "outputs": [
    {
     "data": {
      "text/plain": [
       "0.4"
      ]
     },
     "execution_count": 2,
     "metadata": {},
     "output_type": "execute_result"
    }
   ],
   "source": [
    "# Satsense package import\n",
    "from satsense.performance.jaccard_similarity import jaccard_index_multipolygons as jim # jaccard index computation\n",
    "\n",
    "# compute the Jaccard index\n",
    "jim(multi1, multi2)\n"
   ]
  }
 ],
 "metadata": {
  "anaconda-cloud": {},
  "kernelspec": {
   "display_name": "Python [conda env:satelite]",
   "language": "python",
   "name": "conda-env-satelite-py"
  },
  "language_info": {
   "codemirror_mode": {
    "name": "ipython",
    "version": 3
   },
   "file_extension": ".py",
   "mimetype": "text/x-python",
   "name": "python",
   "nbconvert_exporter": "python",
   "pygments_lexer": "ipython3",
   "version": "3.5.3"
  }
 },
 "nbformat": 4,
 "nbformat_minor": 2
}
