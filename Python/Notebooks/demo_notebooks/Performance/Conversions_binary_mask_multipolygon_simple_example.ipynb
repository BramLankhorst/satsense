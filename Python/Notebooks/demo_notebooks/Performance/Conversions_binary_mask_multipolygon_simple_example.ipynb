{
 "cells": [
  {
   "cell_type": "markdown",
   "metadata": {},
   "source": [
    "# Conversions between binary mask and multipolygon. The mask is stored in image file and the multipolygon- in shape file\n",
    "\n",
    "## Version using the Satsense packages"
   ]
  },
  {
   "cell_type": "markdown",
   "metadata": {},
   "source": [
    "This notebook illustrates the conversion of a toy example between a binary mask and multipolygon shape and the loading and saving to image and shape files.\n"
   ]
  },
  {
   "cell_type": "markdown",
   "metadata": {},
   "source": [
    "### Generate a toy shape as multipolygon"
   ]
  },
  {
   "cell_type": "code",
   "execution_count": 8,
   "metadata": {},
   "outputs": [
    {
     "data": {
      "image/png": "[encoded data removed]",
      "text/plain": [
       "<matplotlib.figure.Figure at 0x7fa6c85e83c8>"
      ]
     },
     "metadata": {},
     "output_type": "display_data"
    }
   ],
   "source": [
    "# Python package imports\n",
    "from matplotlib import pyplot # for plots\n",
    "from shapely.geometry import MultiPolygon # for multipolygon data structure\n",
    "from satsense.util.shapefile import show_multipolygon as shmp # visualization of multipolygons\n",
    "\n",
    "\n",
    "# Create a multipolygon\n",
    "a = [(2,6), (4,6), (4,9), (2,9), (2,6)]\n",
    "b = [(6,9), (7,6), (9,4),(9,8), (7,9),(6,9)]\n",
    "c = [(1,1), (5,1),(5,4),(3,4),(1,1)]\n",
    "d = [(6,1), (10,1),(7,4),(6,1)]\n",
    "\n",
    "multi = MultiPolygon([[a, []], [b, []] ,[c, []], [d, []]])\n",
    "\n",
    "# Visualization parameters\n",
    "ORANGE = '#FF6600'\n",
    "al = 0.8\n",
    "extent = [0, 0, 10, 10] # format of extent is [xmin, ymin, xmax, ymax]\n",
    "\n",
    "# Display the multipolygon\n",
    "fig = pyplot.figure(1, dpi=90)\n",
    "ax = fig.add_subplot(111)\n",
    "\n",
    "shmp(multi, ax, True, extent, ORANGE, al, 'multipolygon')\n",
    "\n",
    "pyplot.show()"
   ]
  },
  {
   "cell_type": "markdown",
   "metadata": {
    "collapsed": true
   },
   "source": [
    "### Convert the multipolygon to a binary mask"
   ]
  },
  {
   "cell_type": "code",
   "execution_count": null,
   "metadata": {
    "collapsed": true
   },
   "outputs": [],
   "source": [
    "# Python package imports\n",
    "from satsense.util.conversions import multipolygon2mask as mp2m # conversion from multipolygon to mask\n",
    "\n",
    "rows = 10\n",
    "cols = 10\n",
    "default_val = 255\n",
    "binary_mask = mp2m(multi, rows, cols, default_val)\n",
    "\n",
    "print(binary_mask)\n",
    "print(binary_mask.shape)\n",
    "plt.imshow(binary_mask, cmap='gray')\n",
    "plt.title('Binary mask')"
   ]
  }
 ],
 "metadata": {
  "anaconda-cloud": {},
  "kernelspec": {
   "display_name": "Python [conda env:satelite]",
   "language": "python",
   "name": "conda-env-satelite-py"
  },
  "language_info": {
   "codemirror_mode": {
    "name": "ipython",
    "version": 3
   },
   "file_extension": ".py",
   "mimetype": "text/x-python",
   "name": "python",
   "nbconvert_exporter": "python",
   "pygments_lexer": "ipython3",
   "version": "3.5.3"
  }
 },
 "nbformat": 4,
 "nbformat_minor": 2
}
