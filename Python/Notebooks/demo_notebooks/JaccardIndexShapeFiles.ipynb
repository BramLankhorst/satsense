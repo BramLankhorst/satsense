{
 "cells": [
  {
   "cell_type": "markdown",
   "metadata": {
    "collapsed": true
   },
   "source": [
    "# Jaccard index computation between shape files\n",
    "## Version using the 'performance' package from Satsense"
   ]
  },
  {
   "cell_type": "markdown",
   "metadata": {},
   "source": [
    "This notebook illustrates the calculation of the Jaccard index between slums shape file (denoting the municipality ground truth for the slums in Kalyan, India) and modified one simulating a segmentaion/prediction result."
   ]
  },
  {
   "cell_type": "markdown",
   "metadata": {
    "collapsed": true
   },
   "source": [
    "### Python package imports "
   ]
  },
  {
   "cell_type": "code",
   "execution_count": 1,
   "metadata": {
    "collapsed": true
   },
   "outputs": [],
   "source": [
    "import os\n",
    "import matplotlib.pyplot as plt\n",
    "%matplotlib inline\n",
    "\n",
    "from satsense.util.shapefile import load_shapefile2multipolygon as sh2mul # loading shapefile to multipolygon\n",
    "from satsense.util.shapefile import show_multipolygon as shmp # visualization of multipolygons\n",
    "from satsense.performance.jaccard_similarity import jaccard_index_multipolygons as jim # jaccard index computation"
   ]
  },
  {
   "cell_type": "markdown",
   "metadata": {},
   "source": [
    "### Visualization parameters"
   ]
  },
  {
   "cell_type": "code",
   "execution_count": 2,
   "metadata": {
    "collapsed": true
   },
   "outputs": [],
   "source": [
    "RED = '#FF0000'\n",
    "GREEN = '#008000'\n",
    "GOLD = '#FFD700'\n",
    "MAGENTA = '#FF00FF'\n",
    "offset = 100\n",
    "alpha = 0.8\n",
    "alpha_over = 0.5\n",
    "offset = 100"
   ]
  },
  {
   "cell_type": "markdown",
   "metadata": {},
   "source": [
    "## Load shapefiles from disk"
   ]
  },
  {
   "cell_type": "markdown",
   "metadata": {},
   "source": [
    "Paths and filenames"
   ]
  },
  {
   "cell_type": "code",
   "execution_count": 3,
   "metadata": {},
   "outputs": [
    {
     "name": "stdout",
     "output_type": "stream",
     "text": [
      "Full truth shape filename:  /home/elena/DynaSlum/Data/Kalyan/test/slums_municipality_made_valid.shp\n",
      "Full test shape filename1:  /home/elena/DynaSlum/Data/Kalyan/test/slums_municipality_modified1.shp\n",
      "Full test shape filename2:  /home/elena/DynaSlum/Data/Kalyan/test/slums_municipality_modified2.shp\n"
     ]
    }
   ],
   "source": [
    "# data paths\n",
    "TEST_SHAPE_PATH = \"/home/elena/DynaSlum/Data/Kalyan/test/\"\n",
    "\n",
    "# masks filename\n",
    "slums_shape_fname = \"slums_municipality_made_valid.shp\"\n",
    "test_shape_fname1 = \"slums_municipality_modified1.shp\" # some slums are removed\n",
    "test_shape_fname2 = \"slums_municipality_modified2.shp\" # modified some nodes from slum boundaries\n",
    "\n",
    "# masks full filenames\n",
    "truth_slums_shape_fullfname = os.path.join(TEST_SHAPE_PATH, slums_shape_fname)\n",
    "test_slums_shape_fullfname1 = os.path.join(TEST_SHAPE_PATH, test_shape_fname1)\n",
    "test_slums_shape_fullfname2 = os.path.join(TEST_SHAPE_PATH, test_shape_fname2)\n",
    "\n",
    "print(\"Full truth shape filename: \", truth_slums_shape_fullfname)\n",
    "print(\"Full test shape filename1: \", test_slums_shape_fullfname1)\n",
    "print(\"Full test shape filename2: \", test_slums_shape_fullfname2)"
   ]
  },
  {
   "cell_type": "markdown",
   "metadata": {},
   "source": [
    "### Get the data bounds."
   ]
  },
  {
   "cell_type": "code",
   "execution_count": 4,
   "metadata": {},
   "outputs": [
    {
     "name": "stdout",
     "output_type": "stream",
     "text": [
      "xmin:  297328.6765506615 xmax:  300732.35364115785 ymin:  2123671.144477916 ymax:  2127839.1117448886\n"
     ]
    }
   ],
   "source": [
    "truth_multi, bounds = sh2mul(truth_slums_shape_fullfname)\n",
    "xmin, ymin, xmax, ymax = bounds\n",
    "print(\"xmin: \", xmin, \"xmax: \", xmax, \"ymin: \", ymin, \"ymax: \", ymax)"
   ]
  },
  {
   "cell_type": "markdown",
   "metadata": {},
   "source": [
    "From the bounds define the figure axes limits."
   ]
  },
  {
   "cell_type": "code",
   "execution_count": 5,
   "metadata": {},
   "outputs": [
    {
     "name": "stdout",
     "output_type": "stream",
     "text": [
      "(297228, 2123571, 300832, 2127939)\n"
     ]
    }
   ],
   "source": [
    "extent = int(xmin) - offset, int(ymin) - offset, int(xmax) + offset, int(ymax) + offset\n",
    "print(extent)"
   ]
  },
  {
   "cell_type": "markdown",
   "metadata": {
    "collapsed": true
   },
   "source": [
    "## Load the contents of the shapefiles as multipolygons."
   ]
  },
  {
   "cell_type": "code",
   "execution_count": 6,
   "metadata": {},
   "outputs": [
    {
     "ename": "ValueError",
     "evalue": "too many values to unpack (expected 1)",
     "output_type": "error",
     "traceback": [
      "\u001b[0;31m---------------------------------------------------------------------------\u001b[0m",
      "\u001b[0;31mValueError\u001b[0m                                Traceback (most recent call last)",
      "\u001b[0;32m<ipython-input-6-852de3b100f8>\u001b[0m in \u001b[0;36m<module>\u001b[0;34m()\u001b[0m\n\u001b[0;32m----> 1\u001b[0;31m \u001b[0mtest1_multi\u001b[0m\u001b[0;34m,\u001b[0m \u001b[0;34m=\u001b[0m \u001b[0msh2mul\u001b[0m\u001b[0;34m(\u001b[0m\u001b[0mtest_slums_shape_fullfname1\u001b[0m\u001b[0;34m)\u001b[0m\u001b[0;34m\u001b[0m\u001b[0m\n\u001b[0m\u001b[1;32m      2\u001b[0m \u001b[0mtest2_multi\u001b[0m\u001b[0;34m,\u001b[0m \u001b[0;34m=\u001b[0m \u001b[0msh2mul\u001b[0m\u001b[0;34m(\u001b[0m\u001b[0mtest_slums_shape_fullfname2\u001b[0m\u001b[0;34m)\u001b[0m\u001b[0;34m\u001b[0m\u001b[0m\n",
      "\u001b[0;31mValueError\u001b[0m: too many values to unpack (expected 1)"
     ]
    }
   ],
   "source": [
    "test1_multi, = sh2mul(test_slums_shape_fullfname1)\n",
    "test2_multi, = sh2mul(test_slums_shape_fullfname2)"
   ]
  },
  {
   "cell_type": "markdown",
   "metadata": {},
   "source": [
    "Verify if the multipolygons are valid."
   ]
  },
  {
   "cell_type": "code",
   "execution_count": null,
   "metadata": {},
   "outputs": [],
   "source": [
    "print(truth_multi.is_valid)"
   ]
  },
  {
   "cell_type": "code",
   "execution_count": null,
   "metadata": {},
   "outputs": [],
   "source": [
    "print(test1_multi.is_valid)"
   ]
  },
  {
   "cell_type": "code",
   "execution_count": null,
   "metadata": {},
   "outputs": [],
   "source": [
    "print(test2_multi.is_valid)"
   ]
  },
  {
   "cell_type": "markdown",
   "metadata": {},
   "source": [
    "### Display the multipolygons "
   ]
  },
  {
   "cell_type": "code",
   "execution_count": null,
   "metadata": {
    "scrolled": true
   },
   "outputs": [],
   "source": [
    "_, ax1 = plt.subplots()\n",
    "_, ax2 = plt.subplots()\n",
    "_,ax3 = plt.subplots()\n",
    "ax1 = shmp(truth_multi, ax1, False, extent, GREEN, alpha,'Slum truth')\n",
    "ax2 = shmp(test1_multi, ax2, False, extent, RED, alpha,'Slum test1')\n",
    "ax3 = shmp(truth_multi, ax3, False, extent, GREEN, alpha_over,'')\n",
    "ax3 = shmp(test1_multi, ax3, False, extent, RED, alpha_over, 'Slum overlap- test on top')\n",
    "\n",
    "plt.show();\n",
    "\n"
   ]
  },
  {
   "cell_type": "code",
   "execution_count": null,
   "metadata": {},
   "outputs": [],
   "source": [
    "_, ax4 = plt.subplots()\n",
    "_, ax5 = plt.subplots()\n",
    "_,ax6 = plt.subplots()\n",
    "ax4 = shmp(truth_multi, ax4, False, extent, GREEN, alpha,'Slum truth')\n",
    "ax5 = shmp(test2_multi, ax5, False, extent, GOLD, alpha,'Slum test2')\n",
    "ax6 = shmp(test2_multi, ax6, False, extent, GOLD, alpha_over, '')\n",
    "ax6 = shmp(truth_multi, ax6, False, extent, GREEN, alpha_over,'Slum overlap- truth on top')\n",
    "\n",
    "plt.show();"
   ]
  },
  {
   "cell_type": "markdown",
   "metadata": {},
   "source": [
    "## Calculate the Jaccard index between few combinaitons of slum multipolygons."
   ]
  },
  {
   "cell_type": "code",
   "execution_count": null,
   "metadata": {},
   "outputs": [],
   "source": [
    "print(\"The Jaccard Index between multipolygons 'truth' and 'test1': \")\n",
    "jim(truth_multi, test1_multi)"
   ]
  },
  {
   "cell_type": "code",
   "execution_count": null,
   "metadata": {},
   "outputs": [],
   "source": [
    "print(\"The Jaccard Index between multipolygons 'truth' and 'test2': \") \n",
    "jim(truth_multi, test2_multi)"
   ]
  },
  {
   "cell_type": "code",
   "execution_count": null,
   "metadata": {},
   "outputs": [],
   "source": [
    "\n",
    "print(\"The Jaccard Index between multipolygons 'test1' and 'test2': \")\n",
    "jim(test1_multi, test2_multi)"
   ]
  }
 ],
 "metadata": {
  "anaconda-cloud": {},
  "kernelspec": {
   "display_name": "Python [default]",
   "language": "python",
   "name": "python3"
  },
  "language_info": {
   "codemirror_mode": {
    "name": "ipython",
    "version": 3
   },
   "file_extension": ".py",
   "mimetype": "text/x-python",
   "name": "python",
   "nbconvert_exporter": "python",
   "pygments_lexer": "ipython3",
   "version": "3.5.3"
  }
 },
 "nbformat": 4,
 "nbformat_minor": 2
}
