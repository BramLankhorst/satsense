{
 "cells": [
  {
   "cell_type": "code",
   "execution_count": null,
   "metadata": {
    "collapsed": true
   },
   "outputs": [],
   "source": [
    "# Toy example Jaccard index mulipolygons"
   ]
  },
  {
   "cell_type": "markdown",
   "metadata": {},
   "source": [
    "Imports"
   ]
  },
  {
   "cell_type": "code",
   "execution_count": 1,
   "metadata": {
    "collapsed": true
   },
   "outputs": [],
   "source": [
    "from matplotlib import pyplot\n",
    "from shapely.geometry import MultiPolygon\n",
    "from descartes.patch import PolygonPatch\n",
    "#from figures import SIZE"
   ]
  },
  {
   "cell_type": "code",
   "execution_count": 2,
   "metadata": {
    "collapsed": true
   },
   "outputs": [],
   "source": [
    "RED = '#FF0000'\n",
    "GREEN = '#008000'\n",
    "al = 0.8\n",
    "\n",
    "def plot_coords(ax, ob):\n",
    "    x, y = ob.xy\n",
    "    ax.plot(x, y, 'o', color='#999999', zorder=1)\n",
    "    \n",
    "fig = pyplot.figure(1, dpi=90)\n",
    "\n"
   ]
  },
  {
   "cell_type": "markdown",
   "metadata": {},
   "source": [
    " Define 2 simple multipolygons and display them"
   ]
  },
  {
   "cell_type": "code",
   "execution_count": 5,
   "metadata": {},
   "outputs": [],
   "source": [
    "# 1: valid multi-polygon\n",
    "ax = fig.add_subplot(121)\n",
    "\n",
    "a = [(0, 0), (0, 1), (1, 1), (1, 0), (0, 0)]\n",
    "b = [(1, 1), (1, 2), (2, 2), (2, 1), (1, 1)]\n",
    "\n",
    "multi1 = MultiPolygon([[a, []], [b, []]])\n",
    "\n",
    "for polygon in multi1:\n",
    "    plot_coords(ax, polygon.exterior)\n",
    "    patch = PolygonPatch(polygon, facecolor=RED, edgecolor=RED, alpha=al, zorder=2)\n",
    "    ax.add_patch(patch)\n",
    "\n",
    "ax.set_title('multi1')\n",
    "\n",
    "xrange = [-1, 5]\n",
    "yrange = [-1, 5]\n",
    "ax.set_xlim(*xrange)\n",
    "ax.set_xticks(range(*xrange))\n",
    "ax.set_ylim(*yrange)\n",
    "ax.set_yticks(range(*yrange))\n",
    "ax.set_aspect(1)\n",
    "\n",
    "\n",
    "# 2: valid multi-polygon\n",
    "ax = fig.add_subplot(122)\n",
    "\n",
    "c = [(0, 0), (0, 2), (2, 2), (2, 0), (0, 0)]\n",
    "d = [(3, 3), (3, 4), (4, 4), (4, 3), (3, 3)]\n",
    "\n",
    "multi2 = MultiPolygon([[c, []], [d, []]])\n",
    "\n",
    "\n",
    "for polygon in multi2:\n",
    "    plot_coords(ax, polygon.exterior)\n",
    "    patch = PolygonPatch(polygon, facecolor=GREEN, edgecolor=GREEN, alpha=al, zorder=2)\n",
    "    ax.add_patch(patch)\n",
    "\n",
    "ax.set_title('multi2')\n",
    "\n",
    "xrange = [-1, 5]\n",
    "yrange = [-1, 5]\n",
    "\n",
    "ax.set_xlim(*xrange)\n",
    "ax.set_xticks(range(*xrange))\n",
    "ax.set_ylim(*yrange)\n",
    "ax.set_yticks(range(*yrange))\n",
    "ax.set_aspect(1)\n",
    "\n",
    "    \n",
    "pyplot.show()"
   ]
  },
  {
   "cell_type": "code",
   "execution_count": null,
   "metadata": {
    "collapsed": true
   },
   "outputs": [],
   "source": []
  },
  {
   "cell_type": "code",
   "execution_count": null,
   "metadata": {
    "collapsed": true
   },
   "outputs": [],
   "source": []
  }
 ],
 "metadata": {
  "anaconda-cloud": {},
  "kernelspec": {
   "display_name": "Python [conda env:satelite]",
   "language": "python",
   "name": "conda-env-satelite-py"
  },
  "language_info": {
   "codemirror_mode": {
    "name": "ipython",
    "version": 3
   },
   "file_extension": ".py",
   "mimetype": "text/x-python",
   "name": "python",
   "nbconvert_exporter": "python",
   "pygments_lexer": "ipython3",
   "version": "3.5.3"
  }
 },
 "nbformat": 4,
 "nbformat_minor": 2
}
