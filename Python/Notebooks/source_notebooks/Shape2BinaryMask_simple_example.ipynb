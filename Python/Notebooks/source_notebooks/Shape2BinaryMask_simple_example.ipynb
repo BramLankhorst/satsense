{
 "cells": [
  {
   "cell_type": "markdown",
   "metadata": {},
   "source": [
    "# Shape File to BinaryMask - simple example\n",
    "\n",
    "## Development version"
   ]
  },
  {
   "cell_type": "markdown",
   "metadata": {},
   "source": [
    "This notebook illustrates the conversion of a toy example from a shapefile to a binary mask."
   ]
  },
  {
   "cell_type": "markdown",
   "metadata": {},
   "source": [
    "### Python packages import"
   ]
  },
  {
   "cell_type": "code",
   "execution_count": 15,
   "metadata": {
    "collapsed": true
   },
   "outputs": [],
   "source": [
    "import matplotlib.pyplot as plt\n",
    "%matplotlib inline\n",
    "\n",
    "import os\n",
    "import numpy as np\n",
    "import pprint\n",
    "#from rasterio.features import shapes as sh\n",
    "#from shapely.geometry import MultiPolygon, shape, mapping\n",
    "from satsense.util.shapefile import load_shapefile2multipolygon as sh2mul # loading shapefile to multipolygon\n",
    "from satsense.util.shapefile import show_multipolygon as shmp # visualization of multipolygons\n",
    "import fiona as f"
   ]
  },
  {
   "cell_type": "markdown",
   "metadata": {},
   "source": [
    "### Visualization parameters"
   ]
  },
  {
   "cell_type": "code",
   "execution_count": 16,
   "metadata": {
    "collapsed": true
   },
   "outputs": [],
   "source": [
    "GREEN = '#008000'\n",
    "offset = 100\n",
    "alpha = 0.8\n",
    "offset = 100"
   ]
  },
  {
   "cell_type": "markdown",
   "metadata": {},
   "source": [
    "### Load a simple shapefile to a shapely multipolygon"
   ]
  },
  {
   "cell_type": "code",
   "execution_count": 17,
   "metadata": {
    "collapsed": true
   },
   "outputs": [],
   "source": [
    "# path\n",
    "path = '/home/elena/DynaSlum/Data/misc/'\n",
    "\n",
    "# filename\n",
    "ext = 'shp'\n",
    "fname = 'rectangles' + '.' + ext\n",
    "\n",
    "# full filename\n",
    "shape_fullfname = os.path.join(path, fname)"
   ]
  },
  {
   "cell_type": "code",
   "execution_count": 21,
   "metadata": {},
   "outputs": [
    {
     "name": "stdout",
     "output_type": "stream",
     "text": [
      "True\n",
      "Shape bounds: xmin:  102285.0379266751 xmax:  105285.41719342604 ymin:  2823314.4986072425 ymax:  2826614.95821727\n"
     ]
    }
   ],
   "source": [
    "multi, bounds = sh2mul(shape_fullfname)\n",
    "print(multi.is_valid)\n",
    "xmin, ymin, xmax, ymax = bounds\n",
    "print(\"Shape bounds: xmin: \", xmin, \"xmax: \", xmax, \"ymin: \", ymin, \"ymax: \", ymax)"
   ]
  },
  {
   "cell_type": "markdown",
   "metadata": {},
   "source": [
    "From the bounds define the figure axes limits."
   ]
  },
  {
   "cell_type": "code",
   "execution_count": 19,
   "metadata": {},
   "outputs": [
    {
     "name": "stdout",
     "output_type": "stream",
     "text": [
      "(102185, 2823214, 105385, 2826714)\n"
     ]
    }
   ],
   "source": [
    "extent = int(xmin) - offset, int(ymin) - offset, int(xmax) + offset, int(ymax) + offset\n",
    "print(extent)"
   ]
  },
  {
   "cell_type": "markdown",
   "metadata": {},
   "source": [
    "### Display the multipolygon"
   ]
  },
  {
   "cell_type": "code",
   "execution_count": 20,
   "metadata": {},
   "outputs": [
    {
     "data": {
      "image/png": "[encoded data removed]",
      "text/plain": [
       "<matplotlib.figure.Figure at 0x7f4b09edc4a8>"
      ]
     },
     "metadata": {},
     "output_type": "display_data"
    }
   ],
   "source": [
    "_, ax = plt.subplots()\n",
    "ax = shmp(multi, ax, False, extent, GREEN, alpha,'Rectangles shape multipolygon- toy example')"
   ]
  },
  {
   "cell_type": "code",
   "execution_count": null,
   "metadata": {
    "collapsed": true
   },
   "outputs": [],
   "source": []
  }
 ],
 "metadata": {
  "anaconda-cloud": {},
  "kernelspec": {
   "display_name": "Python [conda env:satelite]",
   "language": "python",
   "name": "conda-env-satelite-py"
  },
  "language_info": {
   "codemirror_mode": {
    "name": "ipython",
    "version": 3
   },
   "file_extension": ".py",
   "mimetype": "text/x-python",
   "name": "python",
   "nbconvert_exporter": "python",
   "pygments_lexer": "ipython3",
   "version": "3.5.3"
  }
 },
 "nbformat": 4,
 "nbformat_minor": 2
}
