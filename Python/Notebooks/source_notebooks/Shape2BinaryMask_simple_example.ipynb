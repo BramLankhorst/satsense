{
 "cells": [
  {
   "cell_type": "markdown",
   "metadata": {},
   "source": [
    "# Shape File to BinaryMask - simple example\n",
    "\n",
    "## Development version"
   ]
  },
  {
   "cell_type": "markdown",
   "metadata": {},
   "source": [
    "This notebook illustrates the conversion of a toy example from a shapefile to a binary mask."
   ]
  },
  {
   "cell_type": "markdown",
   "metadata": {},
   "source": [
    "### Python packages import"
   ]
  },
  {
   "cell_type": "code",
   "execution_count": 1,
   "metadata": {},
   "outputs": [],
   "source": [
    "import matplotlib.pyplot as plt\n",
    "%matplotlib inline\n",
    "\n",
    "import os\n",
    "import numpy as np\n",
    "import pprint\n",
    "from satsense.util import load_from_file, save_mask2file\n",
    "from satsense.util.shapefile import load_shapefile2multipolygon as sh2mul # loading shapefile to multipolygon\n",
    "from satsense.util.shapefile import show_multipolygon as shmp # visualization of multipolygons\n",
    "from satsense.util.conversions import multipolygon2mask as mp2m # conversion from multipolygon to mask\n",
    "import fiona as f"
   ]
  },
  {
   "cell_type": "markdown",
   "metadata": {},
   "source": [
    "### Visualization parameters"
   ]
  },
  {
   "cell_type": "code",
   "execution_count": 2,
   "metadata": {
    "collapsed": true
   },
   "outputs": [],
   "source": [
    "GREEN = '#008000'\n",
    "offset = 100\n",
    "alpha = 0.8\n",
    "offset = 100"
   ]
  },
  {
   "cell_type": "markdown",
   "metadata": {},
   "source": [
    "### Load a simple shapefile to a shapely multipolygon"
   ]
  },
  {
   "cell_type": "code",
   "execution_count": 3,
   "metadata": {},
   "outputs": [],
   "source": [
    "# path\n",
    "path = '/home/elena/DynaSlum/Data/misc/'\n",
    "\n",
    "# filename\n",
    "ext = 'shp'\n",
    "fname = 'rectangles' + '.' + ext\n",
    "\n",
    "# full filename\n",
    "shape_fullfname = os.path.join(path, fname)"
   ]
  },
  {
   "cell_type": "code",
   "execution_count": 4,
   "metadata": {},
   "outputs": [
    {
     "name": "stdout",
     "output_type": "stream",
     "text": [
      "True\n",
      "Shape bounds: xmin:  102285.0379266751 xmax:  105285.41719342604 ymin:  2823314.4986072425 ymax:  2826614.95821727\n"
     ]
    }
   ],
   "source": [
    "multi, bounds = sh2mul(shape_fullfname)\n",
    "print(multi.is_valid)\n",
    "xmin, ymin, xmax, ymax = bounds\n",
    "print(\"Shape bounds: xmin: \", xmin, \"xmax: \", xmax, \"ymin: \", ymin, \"ymax: \", ymax)"
   ]
  },
  {
   "cell_type": "markdown",
   "metadata": {},
   "source": [
    "From the bounds define the figure axes limits."
   ]
  },
  {
   "cell_type": "code",
   "execution_count": 5,
   "metadata": {},
   "outputs": [
    {
     "name": "stdout",
     "output_type": "stream",
     "text": [
      "(102185, 2823214, 105385, 2826714)\n"
     ]
    }
   ],
   "source": [
    "extent = int(xmin) - offset, int(ymin) - offset, int(xmax) + offset, int(ymax) + offset\n",
    "print(extent)"
   ]
  },
  {
   "cell_type": "markdown",
   "metadata": {},
   "source": [
    "### Display the multipolygon"
   ]
  },
  {
   "cell_type": "code",
   "execution_count": 6,
   "metadata": {},
   "outputs": [
    {
     "data": {
      "image/png": "[encoded data removed]",
      "text/plain": [
       "<matplotlib.figure.Figure at 0x7f71d4083898>"
      ]
     },
     "metadata": {},
     "output_type": "display_data"
    }
   ],
   "source": [
    "_, ax = plt.subplots()\n",
    "ax = shmp(multi, ax, False, extent, GREEN, alpha,'Rectangles shape multipolygon- toy example')"
   ]
  },
  {
   "cell_type": "markdown",
   "metadata": {},
   "source": [
    "### Convert the multipolygon to binary mask"
   ]
  },
  {
   "cell_type": "markdown",
   "metadata": {},
   "source": [
    "Set an example world coordinates transform."
   ]
  },
  {
   "cell_type": "code",
   "execution_count": 7,
   "metadata": {
    "collapsed": true
   },
   "outputs": [],
   "source": [
    "t = [101985.0, 300.0379266750948, 0.0,\n",
    "     2826915.0, 0.0, -300.041782729805]"
   ]
  },
  {
   "cell_type": "code",
   "execution_count": 8,
   "metadata": {},
   "outputs": [
    {
     "name": "stdout",
     "output_type": "stream",
     "text": [
      "[[  0   0   0   0   0   0   0   0   0   0   0   0]\n",
      " [  0 255 255 255   0   0   0   0   0   0   0   0]\n",
      " [  0 255 255 255   0   0   0 255 255 255 255   0]\n",
      " [  0 255 255 255   0   0   0 255 255 255 255   0]\n",
      " [  0   0   0   0   0   0   0 255 255 255 255   0]\n",
      " [  0   0   0   0   0   0   0 255 255 255 255   0]\n",
      " [  0   0   0 255 255 255 255   0   0   0   0   0]\n",
      " [  0   0   0 255 255 255 255   0   0   0   0   0]\n",
      " [  0   0   0   0   0   0   0   0   0   0   0   0]\n",
      " [  0   0   0   0   0   0   0   0   0   0   0   0]\n",
      " [  0   0   0   0   0 255 255 255 255   0   0   0]\n",
      " [  0   0   0   0   0 255 255 255 255   0   0   0]]\n",
      "(12, 12)\n"
     ]
    },
    {
     "name": "stderr",
     "output_type": "stream",
     "text": [
      "/home/elena/anaconda3/envs/satelite/lib/python3.5/site-packages/rasterio/features.py:303: FutureWarning: GDAL-style transforms are deprecated and will not be supported in Rasterio 1.0.\n",
      "  transform = guard_transform(transform)\n"
     ]
    },
    {
     "data": {
      "text/plain": [
       "<matplotlib.text.Text at 0x7f71c5fe46d8>"
      ]
     },
     "execution_count": 8,
     "metadata": {},
     "output_type": "execute_result"
    },
    {
     "data": {
      "image/png": "[encoded data removed]",
      "text/plain": [
       "<matplotlib.figure.Figure at 0x7f71c6074240>"
      ]
     },
     "metadata": {},
     "output_type": "display_data"
    }
   ],
   "source": [
    "rows = 12\n",
    "cols = 12\n",
    "default_val = 255\n",
    "binary_mask = mp2m(multi, rows, cols, t, default_val)\n",
    "\n",
    "print(binary_mask)\n",
    "print(binary_mask.shape)\n",
    "plt.imshow(binary_mask, cmap='gray')\n",
    "plt.title('Binary mask')"
   ]
  },
  {
   "cell_type": "markdown",
   "metadata": {},
   "source": [
    "Save the mask into a file."
   ]
  },
  {
   "cell_type": "code",
   "execution_count": 14,
   "metadata": {},
   "outputs": [
    {
     "name": "stdout",
     "output_type": "stream",
     "text": [
      "/home/elena/DynaSlum/Data/misc/rectangles_mask.tif\n"
     ]
    }
   ],
   "source": [
    "# raster filename\n",
    "ext = 'tif'\n",
    "fname = 'rectangles_mask' + '.' + ext\n",
    "\n",
    "# full filename\n",
    "mask_fullfname = os.path.join(path, fname)\n",
    "print(mask_fullfname)"
   ]
  },
  {
   "cell_type": "code",
   "execution_count": 15,
   "metadata": {},
   "outputs": [
    {
     "name": "stderr",
     "output_type": "stream",
     "text": [
      "/home/elena/anaconda3/envs/satelite/lib/python3.5/site-packages/rasterio/__init__.py:193: UserWarning: Dataset has no geotransform set.  Default transform will be applied (Affine.identity())\n",
      "  s.start()\n"
     ]
    }
   ],
   "source": [
    "save_mask2file(binary_mask, mask_fullfname)\n",
    "#w,h = binary_mask.shape\n",
    "#with rasterio.open(\n",
    "#        mask_fullfname, 'w',\n",
    "#        driver='GTiff',\n",
    "#        dtype=rasterio.uint8,\n",
    "#        count=1,\n",
    "#        width=w,\n",
    "#        height=h) as dst:\n",
    "#    dst.write(binary_mask, indexes=1)"
   ]
  },
  {
   "cell_type": "markdown",
   "metadata": {},
   "source": [
    "Open the saved file to visualize."
   ]
  },
  {
   "cell_type": "code",
   "execution_count": 16,
   "metadata": {},
   "outputs": [
    {
     "name": "stdout",
     "output_type": "stream",
     "text": [
      "[[   0.    0.    0.    0.    0.    0.    0.    0.    0.    0.    0.    0.]\n",
      " [   0.  255.  255.  255.    0.    0.    0.    0.    0.    0.    0.    0.]\n",
      " [   0.  255.  255.  255.    0.    0.    0.  255.  255.  255.  255.    0.]\n",
      " [   0.  255.  255.  255.    0.    0.    0.  255.  255.  255.  255.    0.]\n",
      " [   0.    0.    0.    0.    0.    0.    0.  255.  255.  255.  255.    0.]\n",
      " [   0.    0.    0.    0.    0.    0.    0.  255.  255.  255.  255.    0.]\n",
      " [   0.    0.    0.  255.  255.  255.  255.    0.    0.    0.    0.    0.]\n",
      " [   0.    0.    0.  255.  255.  255.  255.    0.    0.    0.    0.    0.]\n",
      " [   0.    0.    0.    0.    0.    0.    0.    0.    0.    0.    0.    0.]\n",
      " [   0.    0.    0.    0.    0.    0.    0.    0.    0.    0.    0.    0.]\n",
      " [   0.    0.    0.    0.    0.  255.  255.  255.  255.    0.    0.    0.]\n",
      " [   0.    0.    0.    0.    0.  255.  255.  255.  255.    0.    0.    0.]]\n"
     ]
    },
    {
     "data": {
      "text/plain": [
       "<matplotlib.text.Text at 0x7f71c5d15be0>"
      ]
     },
     "execution_count": 16,
     "metadata": {},
     "output_type": "execute_result"
    },
    {
     "data": {
      "image/png": "[encoded data removed]",
      "text/plain": [
       "<matplotlib.figure.Figure at 0x7f71d40d3c18>"
      ]
     },
     "metadata": {},
     "output_type": "display_data"
    }
   ],
   "source": [
    "_, saved_mask = load_from_file(mask_fullfname)\n",
    "saved_mask = np.squeeze(saved_mask)\n",
    "\n",
    "print(saved_mask)\n",
    "plt.imshow(saved_mask, cmap='gray')\n",
    "plt.title('Saved binary mask')"
   ]
  },
  {
   "cell_type": "code",
   "execution_count": null,
   "metadata": {
    "collapsed": true
   },
   "outputs": [],
   "source": []
  }
 ],
 "metadata": {
  "anaconda-cloud": {},
  "kernelspec": {
   "display_name": "Python [conda env:satelite]",
   "language": "python",
   "name": "conda-env-satelite-py"
  },
  "language_info": {
   "codemirror_mode": {
    "name": "ipython",
    "version": 3
   },
   "file_extension": ".py",
   "mimetype": "text/x-python",
   "name": "python",
   "nbconvert_exporter": "python",
   "pygments_lexer": "ipython3",
   "version": "3.5.3"
  }
 },
 "nbformat": 4,
 "nbformat_minor": 2
}
