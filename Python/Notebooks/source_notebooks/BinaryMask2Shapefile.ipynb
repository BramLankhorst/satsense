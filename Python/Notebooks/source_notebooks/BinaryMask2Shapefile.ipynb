{
 "cells": [
  {
   "cell_type": "markdown",
   "metadata": {},
   "source": [
    "# Converting a binary mask to a shapefile\n",
    "## Developement version"
   ]
  },
  {
   "cell_type": "markdown",
   "metadata": {},
   "source": [
    "This notebook illustrates the conversion of a (segmentation result) binary mask to a shapefile. The example is using a 2006 QuickBird image of Kalyan, India and the binary mask of the slum ground truth."
   ]
  },
  {
   "cell_type": "markdown",
   "metadata": {},
   "source": [
    "## Load the mask from disk"
   ]
  },
  {
   "cell_type": "markdown",
   "metadata": {},
   "source": [
    "Python package imports:"
   ]
  },
  {
   "cell_type": "code",
   "execution_count": 1,
   "metadata": {
    "collapsed": true
   },
   "outputs": [],
   "source": [
    "# import\n",
    "import os\n",
    "from matplotlib.pyplot import imshow\n",
    "import matplotlib.pyplot as plt\n",
    "%matplotlib inline\n",
    "\n",
    "import numpy as np\n",
    "import rasterio as ras\n",
    "from rasterio.features import shapes as sh\n",
    "from satsense.util import load_from_file"
   ]
  },
  {
   "cell_type": "markdown",
   "metadata": {},
   "source": [
    "Path and filenames:"
   ]
  },
  {
   "cell_type": "code",
   "execution_count": 2,
   "metadata": {},
   "outputs": [],
   "source": [
    "# data path\n",
    "MASK_PATH = '/home/elena/DynaSlum/Data/Kalyan/Rasterized_Lourens/'\n",
    "\n",
    "# mask filename\n",
    "ext = 'tif'\n",
    "truth_slum_mask_fname = 'all_slums' + '.' + ext\n",
    "\n",
    "# mask full filename\n",
    "truth_slum_mask_fullfname = os.path.join(MASK_PATH, truth_slum_mask_fname)"
   ]
  },
  {
   "cell_type": "markdown",
   "metadata": {},
   "source": [
    "Load the mask onto a numpy array:"
   ]
  },
  {
   "cell_type": "code",
   "execution_count": 3,
   "metadata": {
    "scrolled": true
   },
   "outputs": [
    {
     "name": "stdout",
     "output_type": "stream",
     "text": [
      "Truth slum mask shape:  (6223, 4872, 1)\n"
     ]
    }
   ],
   "source": [
    "_, truth_slum_mask = load_from_file(truth_slum_mask_fullfname)\n",
    "print(\"Truth slum mask shape: \", truth_slum_mask.shape)"
   ]
  },
  {
   "cell_type": "markdown",
   "metadata": {},
   "source": [
    "Squeeze the unnecessary 3rd empty dimension"
   ]
  },
  {
   "cell_type": "code",
   "execution_count": 4,
   "metadata": {},
   "outputs": [
    {
     "name": "stdout",
     "output_type": "stream",
     "text": [
      "Truth slum mask shape:  (6223, 4872)\n"
     ]
    }
   ],
   "source": [
    "truth_slum_mask = np.squeeze(truth_slum_mask)\n",
    "print(\"Truth slum mask shape: \", truth_slum_mask.shape)"
   ]
  },
  {
   "cell_type": "markdown",
   "metadata": {},
   "source": [
    "Print some slum mask values and visualize it:"
   ]
  },
  {
   "cell_type": "code",
   "execution_count": 5,
   "metadata": {},
   "outputs": [
    {
     "name": "stdout",
     "output_type": "stream",
     "text": [
      "Truth slum mask values [20:60,1420:1460]: \n",
      "[[   0.    0.    0. ...,    0.    0.    0.]\n",
      " [   0.    0.    0. ...,    0.    0.    0.]\n",
      " [   0.    0.    0. ...,    0.    0.    0.]\n",
      " ..., \n",
      " [ 255.  255.  255. ...,  255.  255.  255.]\n",
      " [ 255.  255.  255. ...,  255.  255.  255.]\n",
      " [ 255.  255.  255. ...,  255.  255.  255.]]\n"
     ]
    },
    {
     "data": {
      "text/plain": [
       "<matplotlib.text.Text at 0x7f889c00f5f8>"
      ]
     },
     "execution_count": 5,
     "metadata": {},
     "output_type": "execute_result"
    },
    {
     "data": {
      "image/png": "[encoded data removed]",
      "text/plain": [
       "<matplotlib.figure.Figure at 0x7f889c031f60>"
      ]
     },
     "metadata": {},
     "output_type": "display_data"
    }
   ],
   "source": [
    "print(\"Truth slum mask values [20:60,1420:1460]: \")\n",
    "print(truth_slum_mask[20:60,1420:1460])\n",
    "#f = plt.subplots(1, 1)\n",
    "plt.imshow(truth_slum_mask, cmap='gray')\n",
    "plt.title('Slums mask: truth')"
   ]
  },
  {
   "cell_type": "markdown",
   "metadata": {},
   "source": [
    "Use rasterio toprint properties:"
   ]
  },
  {
   "cell_type": "code",
   "execution_count": 23,
   "metadata": {},
   "outputs": [
    {
     "name": "stdout",
     "output_type": "stream",
     "text": [
      "4872 6223\n",
      "CRS({})\n",
      "| 1.00, 0.00, 0.00|\n",
      "| 0.00, 1.00, 0.00|\n",
      "| 0.00, 0.00, 1.00|\n",
      "1\n",
      "(1,)\n"
     ]
    },
    {
     "name": "stderr",
     "output_type": "stream",
     "text": [
      "/home/elena/anaconda3/envs/satelite/lib/python3.5/site-packages/rasterio/__init__.py:193: UserWarning: Dataset has no geotransform set.  Default transform will be applied (Affine.identity())\n",
      "  s.start()\n"
     ]
    }
   ],
   "source": [
    "with ras.drivers():\n",
    "    with ras.open(truth_slum_mask_fullfname) as src:\n",
    "        print(src.width, src.height)\n",
    "        print(src.crs)\n",
    "        print(src.affine)\n",
    "        print(src.count)\n",
    "        print(src.indexes)\n",
    "        \n",
    "#with ras.drivers():\n",
    "#    with ras.open(truth_slum_mask_fullfname) as src:\n",
    "#        image = src.read()\n",
    "#        results = (\n",
    "#        {'properties': {'raster_val': v}, 'geometry': s}\n",
    "#        for i, (s, v) \n",
    "#        in enumerate(\n",
    "#            sh(image, mask=None, transform=src.affine)))"
   ]
  },
  {
   "cell_type": "markdown",
   "metadata": {},
   "source": [
    "The list of features:"
   ]
  },
  {
   "cell_type": "code",
   "execution_count": 21,
   "metadata": {},
   "outputs": [
    {
     "name": "stdout",
     "output_type": "stream",
     "text": [
      "1\n",
      "[{'geometry': {'type': 'Polygon', 'coordinates': [[(0.0, 0.0), (0.0, 1.0), (6223.0, 1.0), (6223.0, 0.0), (0.0, 0.0)]]}, 'properties': {'raster_val': 0.0}}]\n"
     ]
    }
   ],
   "source": [
    "#print(results)\n",
    "geoms = list(results)\n",
    "print(len(geoms))\n",
    "print(geoms)\n"
   ]
  },
  {
   "cell_type": "code",
   "execution_count": null,
   "metadata": {
    "collapsed": true
   },
   "outputs": [],
   "source": []
  }
 ],
 "metadata": {
  "anaconda-cloud": {},
  "kernelspec": {
   "display_name": "Python [default]",
   "language": "python",
   "name": "python3"
  },
  "language_info": {
   "codemirror_mode": {
    "name": "ipython",
    "version": 3
   },
   "file_extension": ".py",
   "mimetype": "text/x-python",
   "name": "python",
   "nbconvert_exporter": "python",
   "pygments_lexer": "ipython3",
   "version": "3.5.3"
  }
 },
 "nbformat": 4,
 "nbformat_minor": 2
}
