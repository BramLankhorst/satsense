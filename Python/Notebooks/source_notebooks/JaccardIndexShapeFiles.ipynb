{
 "cells": [
  {
   "cell_type": "markdown",
   "metadata": {},
   "source": [
    "# Jaccard index computation between shape files\n",
    "## Development version"
   ]
  },
  {
   "cell_type": "markdown",
   "metadata": {},
   "source": [
    "This notebook illustrates the calculation of the Jaccard index between slums shape file and slighntly modified one denoting the municipality ground truth for the slums in Kalyan, India."
   ]
  },
  {
   "cell_type": "markdown",
   "metadata": {
    "collapsed": true
   },
   "source": [
    "Python package imports"
   ]
  },
  {
   "cell_type": "code",
   "execution_count": 40,
   "metadata": {},
   "outputs": [],
   "source": [
    "import os\n",
    "import matplotlib.pyplot as plt\n",
    "%matplotlib inline\n",
    "\n",
    "import fiona\n",
    "from fiona import collection as ficol\n",
    "from descartes import PolygonPatch"
   ]
  },
  {
   "cell_type": "markdown",
   "metadata": {},
   "source": [
    "Paths and filenames"
   ]
  },
  {
   "cell_type": "code",
   "execution_count": 41,
   "metadata": {},
   "outputs": [
    {
     "name": "stdout",
     "output_type": "stream",
     "text": [
      "Full shape filename:  /home/elena/DynaSlum/Data/misc/coutwildrnp.shp\n"
     ]
    }
   ],
   "source": [
    "# data paths\n",
    "#TRUTH_SHAPE_PATH = \"/home/elena/DynaSlum/Data/Kalyan/original/\"\n",
    "TRUTH_SHAPE_PATH = \"/home/elena/DynaSlum/Data/misc/\"\n",
    "\n",
    "# masks filename\n",
    "#slums_shape_fname = \"slums_municipality_ROI.shp\"\n",
    "slums_shape_fname = \"coutwildrnp.shp\"\n",
    "\n",
    "# masks full filenames\n",
    "truth_slums_shape_fullfname = os.path.join(TRUTH_SHAPE_PATH, slums_shape_fname)\n",
    "\n",
    "print(\"Full shape filename: \", truth_slums_shape_fullfname)"
   ]
  },
  {
   "cell_type": "markdown",
   "metadata": {},
   "source": [
    "Load data and display in figure"
   ]
  },
  {
   "cell_type": "code",
   "execution_count": 42,
   "metadata": {},
   "outputs": [
    {
     "name": "stdout",
     "output_type": "stream",
     "text": [
      "67\n"
     ]
    },
    {
     "data": {
      "image/png": "[encoded data removed]",
      "text/plain": [
       "<matplotlib.figure.Figure at 0x7fb0f6f7a9b0>"
      ]
     },
     "metadata": {},
     "output_type": "display_data"
    }
   ],
   "source": [
    "BLUE = '#6699cc'\n",
    "fig = plt.figure(1, figsize=(6, 6), dpi=90)\n",
    "ax = fig.add_subplot(111)\n",
    "with fiona.open(truth_slums_shape_fullfname, \"r\") as f:\n",
    "    print(len(f))\n",
    "with ficol(truth_slums_shape_fullfname, \"r\") as input:\n",
    "    for f in input:\n",
    "        #print(f)\n",
    "        ax.add_patch(\n",
    "            PolygonPatch(\n",
    "                f['geometry'], fc=BLUE, ec=BLUE, alpha=0.5 ))\n",
    "        \n",
    "plt.show()\n",
    "# fig.savefig('test_uk.png')"
   ]
  },
  {
   "cell_type": "code",
   "execution_count": null,
   "metadata": {
    "collapsed": true
   },
   "outputs": [],
   "source": []
  }
 ],
 "metadata": {
  "anaconda-cloud": {},
  "kernelspec": {
   "display_name": "Python [conda env:satelite]",
   "language": "python",
   "name": "conda-env-satelite-py"
  },
  "language_info": {
   "codemirror_mode": {
    "name": "ipython",
    "version": 3
   },
   "file_extension": ".py",
   "mimetype": "text/x-python",
   "name": "python",
   "nbconvert_exporter": "python",
   "pygments_lexer": "ipython3",
   "version": "3.5.3"
  }
 },
 "nbformat": 4,
 "nbformat_minor": 2
}
