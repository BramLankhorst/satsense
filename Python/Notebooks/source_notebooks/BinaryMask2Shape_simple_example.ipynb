{
 "cells": [
  {
   "cell_type": "markdown",
   "metadata": {},
   "source": [
    "# BinaryMask to Shape File - simple example\n",
    "\n",
    "## Development version"
   ]
  },
  {
   "cell_type": "markdown",
   "metadata": {},
   "source": [
    "This notebook illustrates the conversion of a toy example binary mask to a shapefile."
   ]
  },
  {
   "cell_type": "markdown",
   "metadata": {},
   "source": [
    "### Generate simple binary mask."
   ]
  },
  {
   "cell_type": "markdown",
   "metadata": {},
   "source": [
    "Python packages import."
   ]
  },
  {
   "cell_type": "code",
   "execution_count": 48,
   "metadata": {
    "collapsed": true
   },
   "outputs": [],
   "source": [
    "import matplotlib.pyplot as plt\n",
    "%matplotlib inline\n",
    "\n",
    "import os\n",
    "import numpy as np\n",
    "import pprint\n",
    "from rasterio.features import shapes as sh\n",
    "from shapely.geometry import MultiPolygon, shape, mapping\n",
    "from satsense.util.shapefile import show_multipolygon as shmp # visualization of multipolygons\n",
    "import fiona as f"
   ]
  },
  {
   "cell_type": "markdown",
   "metadata": {},
   "source": [
    "Generate a simple binary mask as numpy array and display it."
   ]
  },
  {
   "cell_type": "code",
   "execution_count": 49,
   "metadata": {},
   "outputs": [
    {
     "data": {
      "text/plain": [
       "<matplotlib.text.Text at 0x7fc012cdf7b8>"
      ]
     },
     "execution_count": 49,
     "metadata": {},
     "output_type": "execute_result"
    },
    {
     "data": {
      "image/png": "[encoded data removed]",
      "text/plain": [
       "<matplotlib.figure.Figure at 0x7fc012dabcc0>"
      ]
     },
     "metadata": {},
     "output_type": "display_data"
    }
   ],
   "source": [
    "binary_mask = np.zeros((12, 12), dtype=np.uint8)\n",
    "binary_mask[1:4,1:4] = 1\n",
    "binary_mask[2:6,7:11] = 1\n",
    "binary_mask[10:12,5:9] = 1\n",
    "binary_mask[6:8,3:7] = 1\n",
    "\n",
    "plt.imshow(binary_mask, cmap='gray', origin = 'lower')\n",
    "plt.title('Binary mask')"
   ]
  },
  {
   "cell_type": "markdown",
   "metadata": {},
   "source": [
    "### Converting binary mask to shapes with default connectivity (4) and image coordinates."
   ]
  },
  {
   "cell_type": "code",
   "execution_count": 50,
   "metadata": {},
   "outputs": [
    {
     "name": "stdout",
     "output_type": "stream",
     "text": [
      "Number of polygons: 4\n",
      "[{'geometry': {'coordinates': [[(1.0, 1.0),\n",
      "                                (1.0, 4.0),\n",
      "                                (4.0, 4.0),\n",
      "                                (4.0, 1.0),\n",
      "                                (1.0, 1.0)]],\n",
      "               'type': 'Polygon'},\n",
      "  'properties': {'raster_val': 1.0}},\n",
      " {'geometry': {'coordinates': [[(7.0, 2.0),\n",
      "                                (7.0, 6.0),\n",
      "                                (11.0, 6.0),\n",
      "                                (11.0, 2.0),\n",
      "                                (7.0, 2.0)]],\n",
      "               'type': 'Polygon'},\n",
      "  'properties': {'raster_val': 1.0}},\n",
      " {'geometry': {'coordinates': [[(3.0, 6.0),\n",
      "                                (3.0, 8.0),\n",
      "                                (7.0, 8.0),\n",
      "                                (7.0, 6.0),\n",
      "                                (3.0, 6.0)]],\n",
      "               'type': 'Polygon'},\n",
      "  'properties': {'raster_val': 1.0}},\n",
      " {'geometry': {'coordinates': [[(5.0, 10.0),\n",
      "                                (5.0, 12.0),\n",
      "                                (9.0, 12.0),\n",
      "                                (9.0, 10.0),\n",
      "                                (5.0, 10.0)]],\n",
      "               'type': 'Polygon'},\n",
      "  'properties': {'raster_val': 1.0}}]\n",
      "True\n"
     ]
    }
   ],
   "source": [
    "results = (\n",
    "    {'properties': {'raster_val': v}, 'geometry': s}\n",
    "    for i, (s, v) \n",
    "    in enumerate(\n",
    "        sh(binary_mask, mask=binary_mask)))\n",
    "geoms4 = list(results)    \n",
    "print(\"Number of polygons:\", len(geoms4))\n",
    "pprint.pprint(geoms4)\n",
    "multi4 = MultiPolygon([shape(geoms4[i]['geometry']) for i in range (len(geoms4))])\n",
    "print(multi4.is_valid)"
   ]
  },
  {
   "cell_type": "markdown",
   "metadata": {},
   "source": [
    "Visualize:"
   ]
  },
  {
   "cell_type": "code",
   "execution_count": 51,
   "metadata": {},
   "outputs": [
    {
     "data": {
      "text/plain": [
       "<matplotlib.axes._subplots.AxesSubplot at 0x7fc012e2fa20>"
      ]
     },
     "execution_count": 51,
     "metadata": {},
     "output_type": "execute_result"
    },
    {
     "data": {
      "image/png": "[encoded data removed]",
      "text/plain": [
       "<matplotlib.figure.Figure at 0x7fc012c90160>"
      ]
     },
     "metadata": {},
     "output_type": "display_data"
    }
   ],
   "source": [
    "GREEN = '#008000'\n",
    "offset = 1\n",
    "al = 0.8\n",
    "xmin, ymin, xmax, ymax = multi4.bounds\n",
    "extent = int(xmin) - offset, int(ymin) - offset, int(xmax) + offset, int(ymax) + offset\n",
    "\n",
    "fig = plt.figure(1, dpi=90)\n",
    "\n",
    "ax = fig.add_subplot(111)\n",
    "\n",
    "shmp(multi4, ax, True, extent, GREEN, al, 'Multipolygon from binary mask in image coordinates') "
   ]
  },
  {
   "cell_type": "markdown",
   "metadata": {},
   "source": [
    "### Converting binary mask to shapes with connectivity 8 and world coordinates."
   ]
  },
  {
   "cell_type": "markdown",
   "metadata": {},
   "source": [
    "Set an example world coordinates transform."
   ]
  },
  {
   "cell_type": "code",
   "execution_count": 52,
   "metadata": {
    "collapsed": true
   },
   "outputs": [],
   "source": [
    "t = [101985.0, 300.0379266750948, 0.0,\n",
    "     2826915.0, 0.0, -300.041782729805]"
   ]
  },
  {
   "cell_type": "code",
   "execution_count": 53,
   "metadata": {},
   "outputs": [
    {
     "name": "stdout",
     "output_type": "stream",
     "text": [
      "Number of polygons: 3\n",
      "[{'geometry': {'coordinates': [[(102285.0379266751, 2826614.95821727),\n",
      "                                (102285.0379266751, 2825714.832869081),\n",
      "                                (103185.15170670037, 2825714.832869081),\n",
      "                                (103185.15170670037, 2826614.95821727),\n",
      "                                (102285.0379266751, 2826614.95821727)]],\n",
      "               'type': 'Polygon'},\n",
      "  'properties': {'raster_val': 1.0}},\n",
      " {'geometry': {'coordinates': [[(104085.26548672566, 2826314.9164345404),\n",
      "                                (104085.26548672566, 2825114.7493036212),\n",
      "                                (103785.22756005057, 2825114.7493036212),\n",
      "                                (102885.11378002529, 2825114.7493036212),\n",
      "                                (102885.11378002529, 2824514.6657381617),\n",
      "                                (104085.26548672566, 2824514.6657381617),\n",
      "                                (104085.26548672566, 2825114.7493036212),\n",
      "                                (104985.37926675094, 2825114.7493036212),\n",
      "                                (105285.41719342604, 2825114.7493036212),\n",
      "                                (105285.41719342604, 2826314.9164345404),\n",
      "                                (104085.26548672566, 2826314.9164345404)]],\n",
      "               'type': 'Polygon'},\n",
      "  'properties': {'raster_val': 1.0}},\n",
      " {'geometry': {'coordinates': [[(103485.18963337547, 2823914.582172702),\n",
      "                                (103485.18963337547, 2823314.4986072425),\n",
      "                                (104685.34134007586, 2823314.4986072425),\n",
      "                                (104685.34134007586, 2823914.582172702),\n",
      "                                (103485.18963337547, 2823914.582172702)]],\n",
      "               'type': 'Polygon'},\n",
      "  'properties': {'raster_val': 1.0}}]\n"
     ]
    },
    {
     "name": "stderr",
     "output_type": "stream",
     "text": [
      "/home/elena/anaconda3/envs/satelite/lib/python3.5/site-packages/rasterio/features.py:102: FutureWarning: GDAL-style transforms are deprecated and will not be supported in Rasterio 1.0.\n",
      "  transform = guard_transform(transform)\n"
     ]
    }
   ],
   "source": [
    "results = (\n",
    "    {'properties': {'raster_val': v}, 'geometry': s}\n",
    "    for i, (s, v) \n",
    "    in enumerate(\n",
    "        sh(binary_mask, mask=binary_mask, connectivity = 8, transform=t)))\n",
    "geoms8 = list(results)    \n",
    "print(\"Number of polygons:\", len(geoms8))\n",
    "pprint.pprint(geoms8)"
   ]
  },
  {
   "cell_type": "markdown",
   "metadata": {},
   "source": [
    "Convert the polygons to shapely multi-polygon."
   ]
  },
  {
   "cell_type": "code",
   "execution_count": 54,
   "metadata": {},
   "outputs": [
    {
     "name": "stderr",
     "output_type": "stream",
     "text": [
      "Ring Self-intersection at or near point 104085.26548672566 2825114.7493036212\n"
     ]
    },
    {
     "name": "stdout",
     "output_type": "stream",
     "text": [
      "False\n"
     ]
    }
   ],
   "source": [
    "multi8 = MultiPolygon([shape(geoms8[i]['geometry']) for i in range (len(geoms8))])\n",
    "print(multi8.is_valid)"
   ]
  },
  {
   "cell_type": "markdown",
   "metadata": {},
   "source": [
    "### Generate valid shapely multipolygon from raster"
   ]
  },
  {
   "cell_type": "code",
   "execution_count": 55,
   "metadata": {},
   "outputs": [
    {
     "name": "stdout",
     "output_type": "stream",
     "text": [
      "Number of polygons: 4\n",
      "True\n",
      "MULTIPOLYGON (((102285.0379266751 2826614.95821727, 102285.0379266751 2825714.832869081, 103185.1517067004 2825714.832869081, 103185.1517067004 2826614.95821727, 102285.0379266751 2826614.95821727)), ((104085.2654867257 2826314.91643454, 104085.2654867257 2825114.749303621, 105285.417193426 2825114.749303621, 105285.417193426 2826314.91643454, 104085.2654867257 2826314.91643454)), ((102885.1137800253 2825114.749303621, 102885.1137800253 2824514.665738162, 104085.2654867257 2824514.665738162, 104085.2654867257 2825114.749303621, 102885.1137800253 2825114.749303621)), ((103485.1896333755 2823914.582172702, 103485.1896333755 2823314.498607242, 104685.3413400759 2823314.498607242, 104685.3413400759 2823914.582172702, 103485.1896333755 2823914.582172702)))\n"
     ]
    },
    {
     "name": "stderr",
     "output_type": "stream",
     "text": [
      "/home/elena/anaconda3/envs/satelite/lib/python3.5/site-packages/rasterio/features.py:102: FutureWarning: GDAL-style transforms are deprecated and will not be supported in Rasterio 1.0.\n",
      "  transform = guard_transform(transform)\n"
     ]
    }
   ],
   "source": [
    "results = (\n",
    "    {'properties': {'raster_val': v}, 'geometry': s}\n",
    "    for i, (s, v) \n",
    "    in enumerate(\n",
    "        sh(binary_mask, mask=binary_mask, transform=t)))\n",
    "geoms4w = list(results)    \n",
    "print(\"Number of polygons:\", len(geoms4w))\n",
    "multi4 = MultiPolygon([shape(geoms4w[i]['geometry']) for i in range (len(geoms4w))])\n",
    "print(multi4.is_valid)\n",
    "#print(multi4)\n"
   ]
  },
  {
   "cell_type": "markdown",
   "metadata": {},
   "source": [
    "Display the multipolygon."
   ]
  },
  {
   "cell_type": "code",
   "execution_count": 56,
   "metadata": {},
   "outputs": [
    {
     "data": {
      "text/plain": [
       "<matplotlib.axes._subplots.AxesSubplot at 0x7fc012cb0a90>"
      ]
     },
     "execution_count": 56,
     "metadata": {},
     "output_type": "execute_result"
    },
    {
     "data": {
      "image/png": "[encoded data removed]",
      "text/plain": [
       "<matplotlib.figure.Figure at 0x7fc012c0a320>"
      ]
     },
     "metadata": {},
     "output_type": "display_data"
    }
   ],
   "source": [
    "GREEN = '#008000'\n",
    "offset = 100\n",
    "al = 0.8\n",
    "xmin, ymin, xmax, ymax = multi4.bounds\n",
    "extent = int(xmin) - offset, int(ymin) - offset, int(xmax) + offset, int(ymax) + offset\n",
    "\n",
    "fig = plt.figure(1, dpi=90)\n",
    "\n",
    "ax = fig.add_subplot(111)\n",
    "\n",
    "shmp(multi4, ax, True, extent, GREEN, al, 'Multipolygon from binary mask in world coordinates')  "
   ]
  },
  {
   "cell_type": "markdown",
   "metadata": {},
   "source": [
    "### Saving the shapely multipolygon in a shapefile"
   ]
  },
  {
   "cell_type": "code",
   "execution_count": 57,
   "metadata": {},
   "outputs": [],
   "source": [
    "# path\n",
    "path = '/home/elena/DynaSlum/Data/misc/'\n",
    "\n",
    "# filename\n",
    "ext = 'shp'\n",
    "fname = 'rectangles' + '.' + ext\n",
    "\n",
    "# full filename\n",
    "fullfname = os.path.join(path, fname)"
   ]
  },
  {
   "cell_type": "markdown",
   "metadata": {},
   "source": [
    "Saving the multipolygon as a single feature."
   ]
  },
  {
   "cell_type": "code",
   "execution_count": 58,
   "metadata": {},
   "outputs": [],
   "source": [
    " # Define a multipolygon feature geometry with one attribute\n",
    "schema = {\n",
    "#    'geometry': 'MultiPolygon',\n",
    "#    'properties': {'id': 'str'},\n",
    "    'geometry': 'Polygon',\n",
    "    'properties': {'id': 'int'},\n",
    "\n",
    "}\n",
    "\n",
    "# Write a new Shapefile\n",
    "i = 0\n",
    "with f.open(fullfname, 'w', 'ESRI Shapefile', schema) as fp:\n",
    "    for poly in multi4:\n",
    "        i = i+1\n",
    "        fp.write({\n",
    "            'geometry': mapping(poly),\n",
    "            'properties': {'id': i},\n",
    "        })"
   ]
  }
 ],
 "metadata": {
  "anaconda-cloud": {},
  "kernelspec": {
   "display_name": "Python [conda env:satelite]",
   "language": "python",
   "name": "conda-env-satelite-py"
  },
  "language_info": {
   "codemirror_mode": {
    "name": "ipython",
    "version": 3
   },
   "file_extension": ".py",
   "mimetype": "text/x-python",
   "name": "python",
   "nbconvert_exporter": "python",
   "pygments_lexer": "ipython3",
   "version": "3.5.3"
  }
 },
 "nbformat": 4,
 "nbformat_minor": 2
}
